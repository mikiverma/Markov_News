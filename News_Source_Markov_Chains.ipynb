{
 "cells": [
  {
   "cell_type": "code",
   "execution_count": 42,
   "metadata": {
    "collapsed": false
   },
   "outputs": [],
   "source": [
    "#import packages\n",
    "import markovify #https://github.com/jsvine/markovify\n",
    "import pandas as pd\n",
    "from nltk.stem.lancaster import LancasterStemmer\n",
    "import numpy as np"
   ]
  },
  {
   "cell_type": "code",
   "execution_count": 18,
   "metadata": {
    "collapsed": false
   },
   "outputs": [],
   "source": [
    "#override part of markovify Text Class to remove punctionation, numbers, and change all to lower case\n",
    "import nltk\n",
    "import re\n",
    "\n",
    "stopwords = nltk.corpus.stopwords.words('english')\n",
    "lancaster = LancasterStemmer()\n",
    "\n",
    "class ModifiedText(markovify.Text):\n",
    "   # word_split_pattern = re.compile(r\"\\s+|“+|”+|‘+|’+|'+|,\")\n",
    "    word_split_pattern = re.compile(r\"\\W|\\d\")\n",
    "    def word_split(self, sentence):\n",
    "        \"\"\"\n",
    "        Splits a sentence into a list of words.\n",
    "        \"\"\"\n",
    "        words = re.split(self.word_split_pattern, sentence) \n",
    "        words = list(filter(None,words))\n",
    "        \n",
    "        words=[lancaster.stem(w.lower()) for w in words]\n",
    "        words=[w for w in words if w not in stopwords]\n",
    "        \n",
    "        words=[w.lower() for w in words]\n",
    "        return words"
   ]
  },
  {
   "cell_type": "code",
   "execution_count": 19,
   "metadata": {
    "collapsed": true
   },
   "outputs": [],
   "source": [
    "#create markov chain in the form of nested dictionaries: {(n-gram):{next_word:count}}\n",
    "#state size = n in n-gram\n",
    "#create transition matrix dataframe from chain\n",
    "def create_MV_df(filename,state_size = 1, remove_punc = False):\n",
    "    with open(filename) as f:\n",
    "        text = f.read()\n",
    "    f.close()\n",
    "    if remove_punc:\n",
    "        text_model = ModifiedText(text,state_size)\n",
    "    else:\n",
    "        text_model = markovify.Text(text,state_size=1)\n",
    "    \n",
    "    chain = text_model.chain.model\n",
    "    trans_matrix =pd.DataFrame.from_dict(chain)\n",
    "    return  trans_matrix "
   ]
  },
  {
   "cell_type": "code",
   "execution_count": 20,
   "metadata": {
    "collapsed": false,
    "scrolled": true
   },
   "outputs": [],
   "source": [
    "def make_sentence(filename,state_size = 2, num_tries = 10, num_sentences = 3,max_overlap_ratio = .7, num_char = None, remove_punc = False):\n",
    "    with open(filename) as f:\n",
    "        text = f.read()\n",
    "    f.close()\n",
    "    if remove_punc:\n",
    "        text_model = ModifiedText(text,state_size)\n",
    "    else:\n",
    "        text_model = markovify.Text(text,state_size)\n",
    "    \n",
    "    chain = text_model.chain.model\n",
    "    #make sentences using chain\n",
    "    for i in range(num_sentences):\n",
    "        if num_char:\n",
    "            print(text_model.make_short_sentence(num_char))\n",
    "        else:\n",
    "            print(text_model.make_sentence(max_overlap_ratio = max_overlap_ratio,tries = num_tries))"
   ]
  },
  {
   "cell_type": "markdown",
   "metadata": {},
   "source": [
    "### Make Sentences using Chains"
   ]
  },
  {
   "cell_type": "code",
   "execution_count": 5,
   "metadata": {
    "collapsed": false,
    "scrolled": true
   },
   "outputs": [
    {
     "name": "stdout",
     "output_type": "stream",
     "text": [
      "None\n",
      "“Prior to joining DHS in 2015, Mary served as the fourth director of the Army Capabilities Integration Center at Fort Eustis, Virginia.\n",
      "None\n"
     ]
    }
   ],
   "source": [
    "make_sentence('data/breitbart_pol_feb_20_26.txt',state_size = 3,max_overlap_ratio = .5, num_tries = 30)"
   ]
  },
  {
   "cell_type": "code",
   "execution_count": 6,
   "metadata": {
    "collapsed": false
   },
   "outputs": [
    {
     "name": "stdout",
     "output_type": "stream",
     "text": [
      "Flynn was forced to go to match that record.\n",
      "According to the people.”\n",
      "Our first president was mostly a steward, seeking to define the subject of an offensive video in the quiet of the House was correct.\n"
     ]
    }
   ],
   "source": [
    "make_sentence('data/fox_pol_feb_20_26.txt',state_size = 2,num_tries = 20, num_char = 140)"
   ]
  },
  {
   "cell_type": "code",
   "execution_count": 7,
   "metadata": {
    "collapsed": false,
    "scrolled": false
   },
   "outputs": [
    {
     "name": "stdout",
     "output_type": "stream",
     "text": [
      "View all New York Times's products and services.\n",
      "Sign Up for the bureau’s help disputing the story, and that the free speech was not given formal status.\n",
      "Mr. Trump’s team did not mention the six cases, Justice Thomas wrote.\n"
     ]
    }
   ],
   "source": [
    "make_sentence('data/nyt_pol_feb_20_26.txt',state_size = 2,num_tries = 20, num_char = 140)"
   ]
  },
  {
   "cell_type": "code",
   "execution_count": 8,
   "metadata": {
    "collapsed": false
   },
   "outputs": [
    {
     "name": "stdout",
     "output_type": "stream",
     "text": [
      "1979 Revisited Through the first Gulf War.\n",
      "Officials at CPAC, including its chairman, Matt Schlapp, said Yiannopoulos’s response on Facebook and on and on.\n",
      "It’s not that the U.S. expect such success.\n"
     ]
    }
   ],
   "source": [
    "make_sentence('data/huffpost_pol_feb_20_26.txt',state_size = 2,num_tries = 20, num_char = 140)"
   ]
  },
  {
   "cell_type": "markdown",
   "metadata": {},
   "source": [
    "## Find Distance Between MCs"
   ]
  },
  {
   "cell_type": "code",
   "execution_count": 21,
   "metadata": {
    "collapsed": false
   },
   "outputs": [],
   "source": [
    "MC_bb =create_MV_df('data/breitbart_pol_feb_20_26.txt',1,True)"
   ]
  },
  {
   "cell_type": "code",
   "execution_count": 22,
   "metadata": {
    "collapsed": true
   },
   "outputs": [],
   "source": [
    "MC_fox =create_MV_df('data/fox_pol_feb_20_26.txt',1,True)"
   ]
  },
  {
   "cell_type": "code",
   "execution_count": 23,
   "metadata": {
    "collapsed": true
   },
   "outputs": [],
   "source": [
    "MC_nyt =create_MV_df('data/nyt_pol_feb_20_26.txt',1,True)"
   ]
  },
  {
   "cell_type": "code",
   "execution_count": 24,
   "metadata": {
    "collapsed": false
   },
   "outputs": [],
   "source": [
    "MC_hp =create_MV_df('data/huffpost_pol_feb_20_26.txt',1,True)"
   ]
  },
  {
   "cell_type": "code",
   "execution_count": null,
   "metadata": {
    "collapsed": true
   },
   "outputs": [],
   "source": []
  },
  {
   "cell_type": "code",
   "execution_count": 13,
   "metadata": {
    "collapsed": false
   },
   "outputs": [],
   "source": [
    "#for state = 2\n",
    "#chain[('in', 'the')]\n",
    "#trans_matrix['in']['the'][trans_matrix['in']['the'].notnull()]"
   ]
  },
  {
   "cell_type": "code",
   "execution_count": 25,
   "metadata": {
    "collapsed": false,
    "scrolled": false
   },
   "outputs": [
    {
     "name": "stdout",
     "output_type": "stream",
     "text": [
      "(3123, 3123)\n",
      "(3170, 3170)\n",
      "(3312, 3312)\n",
      "(3163, 3163)\n"
     ]
    }
   ],
   "source": [
    "print(MC_bb.shape)\n",
    "print(MC_fox.shape)\n",
    "print(MC_nyt.shape)\n",
    "print(MC_hp.shape)"
   ]
  },
  {
   "cell_type": "code",
   "execution_count": null,
   "metadata": {
    "collapsed": true
   },
   "outputs": [],
   "source": [
    "for m in MC_list"
   ]
  },
  {
   "cell_type": "code",
   "execution_count": null,
   "metadata": {
    "collapsed": true
   },
   "outputs": [],
   "source": []
  },
  {
   "cell_type": "code",
   "execution_count": null,
   "metadata": {
    "collapsed": true
   },
   "outputs": [],
   "source": []
  },
  {
   "cell_type": "code",
   "execution_count": 35,
   "metadata": {
    "collapsed": true
   },
   "outputs": [],
   "source": [
    "def print_word_freq(chain_list,w1,w2):\n",
    "    w1=lancaster.stem(w1.lower())\n",
    "    w2=lancaster.stem(w2.lower())\n",
    "    for i in range(len(chain_list)):\n",
    "        print(chain_list[i][w1][w2])"
   ]
  },
  {
   "cell_type": "code",
   "execution_count": 69,
   "metadata": {
    "collapsed": false
   },
   "outputs": [
    {
     "data": {
      "text/plain": [
       "3.0"
      ]
     },
     "execution_count": 69,
     "metadata": {},
     "output_type": "execute_result"
    }
   ],
   "source": [
    "MC_hp[\"mr\"][\"trump\"]"
   ]
  },
  {
   "cell_type": "code",
   "execution_count": 75,
   "metadata": {
    "collapsed": false,
    "scrolled": false
   },
   "outputs": [
    {
     "name": "stdout",
     "output_type": "stream",
     "text": [
      "1.0\n",
      "3.0\n",
      "240.0\n",
      "3.0\n"
     ]
    }
   ],
   "source": [
    "print_word_freq(MC_list,\"Mr\", \"Trump\")"
   ]
  },
  {
   "cell_type": "code",
   "execution_count": 76,
   "metadata": {
    "collapsed": false,
    "scrolled": false
   },
   "outputs": [
    {
     "name": "stdout",
     "output_type": "stream",
     "text": [
      "56.0\n",
      "40.0\n",
      "22.0\n",
      "7.0\n"
     ]
    }
   ],
   "source": [
    "print_word_freq(MC_list,\"President\", \"Trump\")"
   ]
  },
  {
   "cell_type": "code",
   "execution_count": 77,
   "metadata": {
    "collapsed": false
   },
   "outputs": [
    {
     "name": "stdout",
     "output_type": "stream",
     "text": [
      "39.0\n",
      "19.0\n",
      "5.0\n",
      "39.0\n"
     ]
    }
   ],
   "source": [
    "print_word_freq(MC_list,\"Donald\", \"Trump\")"
   ]
  },
  {
   "cell_type": "code",
   "execution_count": 58,
   "metadata": {
    "collapsed": true
   },
   "outputs": [],
   "source": [
    "MC_list = [MC_bb,MC_fox,MC_nyt,MC_hp]"
   ]
  },
  {
   "cell_type": "code",
   "execution_count": 38,
   "metadata": {
    "collapsed": false
   },
   "outputs": [],
   "source": [
    "x= pd.concat(MC_list, axis = 0,keys = ['1','2','3','4'])"
   ]
  },
  {
   "cell_type": "code",
   "execution_count": 39,
   "metadata": {
    "collapsed": true
   },
   "outputs": [],
   "source": [
    "y = pd.concat(MC_list,axis = 1,keys = ['1','2','3','4'])"
   ]
  },
  {
   "cell_type": "code",
   "execution_count": 40,
   "metadata": {
    "collapsed": true
   },
   "outputs": [],
   "source": [
    "x1=x.ix['1']\n",
    "x2=x.ix['2']\n",
    "x3=x.ix['3']\n",
    "x4=x.ix['4']"
   ]
  },
  {
   "cell_type": "code",
   "execution_count": 41,
   "metadata": {
    "collapsed": true
   },
   "outputs": [],
   "source": [
    "y1 = y['1']\n",
    "y2 = y['2']\n",
    "y3 = y['3']\n",
    "y4 = y['4']"
   ]
  },
  {
   "cell_type": "code",
   "execution_count": 42,
   "metadata": {
    "collapsed": false
   },
   "outputs": [],
   "source": [
    "full_bb = pd.concat([x1,y1],axis=1,keys = ['1','2'])['1']\n",
    "full_fox = pd.concat([x2,y2],axis=1,keys = ['1','2'])['1']\n",
    "full_nyt = pd.concat([x3,y3],axis=1,keys = ['1','2'])['1']\n",
    "full_hp = pd.concat([x4,y4],axis=1,keys = ['1','2'])['1']"
   ]
  },
  {
   "cell_type": "code",
   "execution_count": 43,
   "metadata": {
    "collapsed": true
   },
   "outputs": [],
   "source": [
    "import numpy as np"
   ]
  },
  {
   "cell_type": "code",
   "execution_count": 44,
   "metadata": {
    "collapsed": true
   },
   "outputs": [],
   "source": [
    "def df_to_mat(df):\n",
    "    df = df.fillna(0)\n",
    "    mat = df.as_matrix()\n",
    "    return mat"
   ]
  },
  {
   "cell_type": "code",
   "execution_count": 45,
   "metadata": {
    "collapsed": true
   },
   "outputs": [],
   "source": [
    "def get_prob_mat(mat):\n",
    "    return mat/np.sum(np.sum(mat,0))"
   ]
  },
  {
   "cell_type": "code",
   "execution_count": 46,
   "metadata": {
    "collapsed": false
   },
   "outputs": [],
   "source": [
    "bb_mat = df_to_mat(full_bb)\n",
    "fox_mat = df_to_mat(full_fox)\n",
    "nyt_mat = df_to_mat(full_nyt)\n",
    "hp_mat = df_to_mat(full_hp)"
   ]
  },
  {
   "cell_type": "code",
   "execution_count": 47,
   "metadata": {
    "collapsed": false
   },
   "outputs": [],
   "source": [
    "bb_mat_prob = get_prob_mat(bb_mat)\n",
    "fox_mat_prob = get_prob_mat(fox_mat)\n",
    "nyt_mat_prob = get_prob_mat(nyt_mat)\n",
    "hp_mat_prob = get_prob_mat(hp_mat)"
   ]
  },
  {
   "cell_type": "code",
   "execution_count": 48,
   "metadata": {
    "collapsed": true
   },
   "outputs": [],
   "source": [
    "def distance(a,b,norm = 'fro',before=True):\n",
    "    if before:\n",
    "        return np.linalg.norm(a-b,norm)\n",
    "    else:\n",
    "        return abs(np.linalg.norm(a,norm)-np.linalg.norm(b,norm))"
   ]
  },
  {
   "cell_type": "code",
   "execution_count": 49,
   "metadata": {
    "collapsed": true
   },
   "outputs": [],
   "source": [
    "def print_distances(mc_list,name_list,norm,measure_name,before = True):\n",
    "    print(\"Distance Measure:\", measure_name)\n",
    "    for i in range(len(mc_list)):\n",
    "        for j in range(i+1,len(mc_list)):\n",
    "            print(distance(mc_list[i],mc_list[j],norm,before),\": \",name_list[i],\"-\",name_list[j])\n",
    "            "
   ]
  },
  {
   "cell_type": "code",
   "execution_count": 50,
   "metadata": {
    "collapsed": true
   },
   "outputs": [],
   "source": [
    "name_list = [\"Breitbart\",\"Fox\",\"NYT\",\"HuffPost\"]\n",
    "mc_list = [bb_mat,fox_mat,nyt_mat,hp_mat]\n",
    "mc_list_prob = [bb_mat_prob,fox_mat_prob,nyt_mat_prob,hp_mat_prob]"
   ]
  },
  {
   "cell_type": "code",
   "execution_count": 51,
   "metadata": {
    "collapsed": false,
    "scrolled": true
   },
   "outputs": [
    {
     "name": "stdout",
     "output_type": "stream",
     "text": [
      "Distance Measure: Frobenius Norm\n",
      "331.888535506 :  Breitbart - Fox\n",
      "635.831738749 :  Breitbart - NYT\n",
      "427.31955256 :  Breitbart - HuffPost\n",
      "640.156230931 :  Fox - NYT\n",
      "436.838642979 :  Fox - HuffPost\n",
      "645.382057389 :  NYT - HuffPost\n"
     ]
    }
   ],
   "source": [
    "print_distances(mc_list,name_list,'fro',\"Frobenius Norm\")"
   ]
  },
  {
   "cell_type": "code",
   "execution_count": 52,
   "metadata": {
    "collapsed": false,
    "scrolled": true
   },
   "outputs": [
    {
     "name": "stdout",
     "output_type": "stream",
     "text": [
      "Distance Measure: Frobenius Norm (Probability)\n",
      "0.0102253274847 :  Breitbart - Fox\n",
      "0.0145545748391 :  Breitbart - NYT\n",
      "0.00900426158816 :  Breitbart - HuffPost\n",
      "0.0146409541173 :  Fox - NYT\n",
      "0.00896531015959 :  Fox - HuffPost\n",
      "0.0138007481185 :  NYT - HuffPost\n"
     ]
    }
   ],
   "source": [
    "print_distances(mc_list_prob,name_list,'fro',\"Frobenius Norm (Probability)\")"
   ]
  },
  {
   "cell_type": "code",
   "execution_count": 323,
   "metadata": {
    "collapsed": false,
    "scrolled": true
   },
   "outputs": [],
   "source": [
    "#print_distances(mc_list_prob,name_list,'fro',\"Diff Between Each Frobenius Norm (Probability)\",False)"
   ]
  },
  {
   "cell_type": "code",
   "execution_count": 324,
   "metadata": {
    "collapsed": false,
    "scrolled": true
   },
   "outputs": [],
   "source": [
    "#print_distances(mc_list_prob,name_list,np.inf,\"Max Norm(Prob)\")"
   ]
  }
 ],
 "metadata": {
  "kernelspec": {
   "display_name": "Python [Root]",
   "language": "python",
   "name": "Python [Root]"
  },
  "language_info": {
   "codemirror_mode": {
    "name": "ipython",
    "version": 3
   },
   "file_extension": ".py",
   "mimetype": "text/x-python",
   "name": "python",
   "nbconvert_exporter": "python",
   "pygments_lexer": "ipython3",
   "version": "3.5.2"
  }
 },
 "nbformat": 4,
 "nbformat_minor": 2
}
