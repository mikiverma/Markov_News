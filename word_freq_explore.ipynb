{
 "cells": [
  {
   "cell_type": "code",
   "execution_count": 1,
   "metadata": {
    "collapsed": true
   },
   "outputs": [],
   "source": [
    "import json\n",
    "from datetime import datetime\n",
    "import itertools\n",
    "from nltk.stem.lancaster import LancasterStemmer\n",
    "import re\n",
    "import nltk"
   ]
  },
  {
   "cell_type": "code",
   "execution_count": 2,
   "metadata": {
    "collapsed": false
   },
   "outputs": [],
   "source": [
    "def make_wf_df(dicts,names):\n",
    "    word_lists = [list(d.keys()) for d in dicts]\n",
    "    all_words = set(itertools.chain.from_iterable(word_lists))\n",
    "    df = pd.DataFrame(None, index =  all_words)\n",
    "    for i, d in enumerate(dicts):\n",
    "        col = [d[w] if w in d else 0 for w in all_words]\n",
    "        df[names[i]] = col\n",
    "    return df"
   ]
  },
  {
   "cell_type": "code",
   "execution_count": 7,
   "metadata": {
    "collapsed": true
   },
   "outputs": [],
   "source": [
    "def remove_quotes(t_in):\n",
    "    t_in= re.sub('“','',t_in)\n",
    "    t_in= re.sub('”','',t_in)\n",
    "    t_in= re.sub('\"','',t_in)\n",
    "    return t_in"
   ]
  },
  {
   "cell_type": "markdown",
   "metadata": {},
   "source": [
    "## Explore Stem/Tokenize"
   ]
  },
  {
   "cell_type": "code",
   "execution_count": 3,
   "metadata": {
    "collapsed": false
   },
   "outputs": [],
   "source": [
    "from nltk.probability import FreqDist\n",
    "import collections\n",
    "import pandas as pd"
   ]
  },
  {
   "cell_type": "code",
   "execution_count": 4,
   "metadata": {
    "collapsed": true
   },
   "outputs": [],
   "source": [
    "def tokenize_text (file):\n",
    "    with open(file,'r') as f:\n",
    "        text = f.read()\n",
    "    f.close()\n",
    "    return tokenize_stem(text)"
   ]
  },
  {
   "cell_type": "code",
   "execution_count": 8,
   "metadata": {
    "collapsed": true
   },
   "outputs": [],
   "source": [
    "from nltk.tokenize import sent_tokenize\n",
    "from nltk.tokenize import word_tokenize\n",
    "from nltk.tokenize import RegexpTokenizer\n",
    "tokenizer = RegexpTokenizer(r'\\w+|')\n",
    "from nltk.stem.porter import PorterStemmer\n",
    "porter_stemmer = PorterStemmer()\n",
    "stopwords = nltk.corpus.stopwords.words('english')\n",
    "\n",
    "def tokenize_stem(text):\n",
    "    text = remove_quotes(text)\n",
    "    sent_tokenize_list = sent_tokenize(text)\n",
    "    tokens = []\n",
    "    for sent in sent_tokenize_list:\n",
    "        tokens+=word_tokenize(sent)\n",
    "        \n",
    "    tokens=[t.lower() for t in tokens]\n",
    "    tokens=[t for t in tokens if t not in stopwords]\n",
    "    tokens = [porter_stemmer.stem(t) for t in tokens]\n",
    "    \n",
    "    tokens = [re.sub(r\"\\W|\\d\",\"\",t) for t in tokens]\n",
    "    \n",
    "    tokens = list(filter(None,tokens))\n",
    "    \n",
    "    tokens=[t for t in tokens if t not in stopwords]\n",
    "    \n",
    "    return tokens\n",
    "    "
   ]
  },
  {
   "cell_type": "code",
   "execution_count": 9,
   "metadata": {
    "collapsed": false
   },
   "outputs": [],
   "source": [
    "fd_bb = FreqDist(tokenize_text('data/breitbart_pol_feb_20_26.txt'))\n",
    "fd_nyt = FreqDist(tokenize_text('data/nyt_pol_feb_20_26.txt'))\n",
    "fd_hp = FreqDist(tokenize_text('data/huffpost_pol_feb_20_26.txt'))\n",
    "fd_fox = FreqDist(tokenize_text('data/fox_pol_feb_20_26.txt'))"
   ]
  },
  {
   "cell_type": "markdown",
   "metadata": {},
   "source": [
    "### Measure Distances"
   ]
  },
  {
   "cell_type": "code",
   "execution_count": 10,
   "metadata": {
    "collapsed": true
   },
   "outputs": [],
   "source": [
    "import numpy as np"
   ]
  },
  {
   "cell_type": "code",
   "execution_count": 11,
   "metadata": {
    "collapsed": true
   },
   "outputs": [],
   "source": [
    "freq_dists = [fd_bb, fd_nyt, fd_hp,fd_fox]\n",
    "names = [\"breitbart\",\"NYT\",\"HuffPost\",\"Fox\"]"
   ]
  },
  {
   "cell_type": "code",
   "execution_count": 12,
   "metadata": {
    "collapsed": false
   },
   "outputs": [],
   "source": [
    "df = make_wf_df(freq_dists,names)"
   ]
  },
  {
   "cell_type": "code",
   "execution_count": 13,
   "metadata": {
    "collapsed": true
   },
   "outputs": [],
   "source": [
    "def distance(a,b,norm = 2):\n",
    "    return np.linalg.norm(a-b,norm)"
   ]
  },
  {
   "cell_type": "code",
   "execution_count": 14,
   "metadata": {
    "collapsed": true
   },
   "outputs": [],
   "source": [
    "def print_distances(df,norm,measure_name):\n",
    "    print(\"Distance Measure:\", measure_name)\n",
    "    for i in range(df.shape[1]):\n",
    "        for j in range(i+1,df.shape[1]):\n",
    "            #print(cos_similarity(df[df.columns[i]],df[df.columns[j]]),\": \",df.columns[i],\"-\",df.columns[j])\n",
    "            print(distance(df[df.columns[i]],df[df.columns[j]],norm),\": \",df.columns[i],\"-\",df.columns[j])\n",
    "            "
   ]
  },
  {
   "cell_type": "code",
   "execution_count": 15,
   "metadata": {
    "collapsed": false,
    "scrolled": false
   },
   "outputs": [
    {
     "name": "stdout",
     "output_type": "stream",
     "text": [
      "Distance Measure: Euclidian Norm (Freq)\n",
      "881.293935075 :  breitbart - NYT\n",
      "850.730862259 :  breitbart - HuffPost\n",
      "408.674687251 :  breitbart - Fox\n",
      "1012.26083595 :  NYT - HuffPost\n",
      "845.706804986 :  NYT - Fox\n",
      "763.554844134 :  HuffPost - Fox\n"
     ]
    }
   ],
   "source": [
    "print_distances(df,2,\"Euclidian Norm (Freq)\")"
   ]
  },
  {
   "cell_type": "code",
   "execution_count": 16,
   "metadata": {
    "collapsed": false
   },
   "outputs": [],
   "source": [
    "source_totals = df.sum(0)"
   ]
  },
  {
   "cell_type": "code",
   "execution_count": 17,
   "metadata": {
    "collapsed": true
   },
   "outputs": [],
   "source": [
    "df_prob = df/source_totals"
   ]
  },
  {
   "cell_type": "code",
   "execution_count": 18,
   "metadata": {
    "collapsed": false,
    "scrolled": false
   },
   "outputs": [
    {
     "name": "stdout",
     "output_type": "stream",
     "text": [
      "Distance Measure: Euclidian Norm (Prob)\n",
      "0.0357741012382 :  breitbart - NYT\n",
      "0.0171960085738 :  breitbart - HuffPost\n",
      "0.0194991199599 :  breitbart - Fox\n",
      "0.0342315188137 :  NYT - HuffPost\n",
      "0.0348491146819 :  NYT - Fox\n",
      "0.0178636189113 :  HuffPost - Fox\n"
     ]
    }
   ],
   "source": [
    "print_distances(df_prob,2,\"Euclidian Norm (Prob)\")"
   ]
  },
  {
   "cell_type": "code",
   "execution_count": 20,
   "metadata": {
    "collapsed": true
   },
   "outputs": [],
   "source": [
    "df_most = df.copy()\n",
    "df_most[\"total\"] = df_most.sum(1)\n",
    "df_most.sort_values(by=\"total\",ascending = False,inplace = True)"
   ]
  },
  {
   "cell_type": "code",
   "execution_count": 21,
   "metadata": {
    "collapsed": false,
    "scrolled": true
   },
   "outputs": [],
   "source": [
    "df_most = df_most.iloc[0:15]"
   ]
  },
  {
   "cell_type": "code",
   "execution_count": 22,
   "metadata": {
    "collapsed": false,
    "scrolled": true
   },
   "outputs": [
    {
     "data": {
      "text/html": [
       "<div>\n",
       "<table border=\"1\" class=\"dataframe\">\n",
       "  <thead>\n",
       "    <tr style=\"text-align: right;\">\n",
       "      <th></th>\n",
       "      <th>breitbart</th>\n",
       "      <th>NYT</th>\n",
       "      <th>HuffPost</th>\n",
       "      <th>Fox</th>\n",
       "      <th>total</th>\n",
       "    </tr>\n",
       "  </thead>\n",
       "  <tbody>\n",
       "    <tr>\n",
       "      <th>trump</th>\n",
       "      <td>236</td>\n",
       "      <td>316</td>\n",
       "      <td>563</td>\n",
       "      <td>367</td>\n",
       "      <td>1482</td>\n",
       "    </tr>\n",
       "    <tr>\n",
       "      <th>said</th>\n",
       "      <td>172</td>\n",
       "      <td>368</td>\n",
       "      <td>403</td>\n",
       "      <td>245</td>\n",
       "      <td>1188</td>\n",
       "    </tr>\n",
       "    <tr>\n",
       "      <th>presid</th>\n",
       "      <td>146</td>\n",
       "      <td>142</td>\n",
       "      <td>227</td>\n",
       "      <td>195</td>\n",
       "      <td>710</td>\n",
       "    </tr>\n",
       "    <tr>\n",
       "      <th>mr</th>\n",
       "      <td>3</td>\n",
       "      <td>675</td>\n",
       "      <td>12</td>\n",
       "      <td>8</td>\n",
       "      <td>698</td>\n",
       "    </tr>\n",
       "    <tr>\n",
       "      <th>would</th>\n",
       "      <td>76</td>\n",
       "      <td>118</td>\n",
       "      <td>269</td>\n",
       "      <td>115</td>\n",
       "      <td>578</td>\n",
       "    </tr>\n",
       "    <tr>\n",
       "      <th>state</th>\n",
       "      <td>74</td>\n",
       "      <td>128</td>\n",
       "      <td>230</td>\n",
       "      <td>107</td>\n",
       "      <td>539</td>\n",
       "    </tr>\n",
       "    <tr>\n",
       "      <th>hous</th>\n",
       "      <td>74</td>\n",
       "      <td>147</td>\n",
       "      <td>154</td>\n",
       "      <td>112</td>\n",
       "      <td>487</td>\n",
       "    </tr>\n",
       "    <tr>\n",
       "      <th>new</th>\n",
       "      <td>61</td>\n",
       "      <td>154</td>\n",
       "      <td>157</td>\n",
       "      <td>80</td>\n",
       "      <td>452</td>\n",
       "    </tr>\n",
       "    <tr>\n",
       "      <th>time</th>\n",
       "      <td>76</td>\n",
       "      <td>170</td>\n",
       "      <td>138</td>\n",
       "      <td>67</td>\n",
       "      <td>451</td>\n",
       "    </tr>\n",
       "    <tr>\n",
       "      <th>one</th>\n",
       "      <td>82</td>\n",
       "      <td>94</td>\n",
       "      <td>180</td>\n",
       "      <td>79</td>\n",
       "      <td>435</td>\n",
       "    </tr>\n",
       "    <tr>\n",
       "      <th>peopl</th>\n",
       "      <td>68</td>\n",
       "      <td>96</td>\n",
       "      <td>182</td>\n",
       "      <td>71</td>\n",
       "      <td>417</td>\n",
       "    </tr>\n",
       "    <tr>\n",
       "      <th>republican</th>\n",
       "      <td>99</td>\n",
       "      <td>123</td>\n",
       "      <td>100</td>\n",
       "      <td>76</td>\n",
       "      <td>398</td>\n",
       "    </tr>\n",
       "    <tr>\n",
       "      <th>us</th>\n",
       "      <td>84</td>\n",
       "      <td>27</td>\n",
       "      <td>174</td>\n",
       "      <td>110</td>\n",
       "      <td>395</td>\n",
       "    </tr>\n",
       "    <tr>\n",
       "      <th>white</th>\n",
       "      <td>60</td>\n",
       "      <td>109</td>\n",
       "      <td>120</td>\n",
       "      <td>89</td>\n",
       "      <td>378</td>\n",
       "    </tr>\n",
       "    <tr>\n",
       "      <th>american</th>\n",
       "      <td>82</td>\n",
       "      <td>85</td>\n",
       "      <td>144</td>\n",
       "      <td>53</td>\n",
       "      <td>364</td>\n",
       "    </tr>\n",
       "  </tbody>\n",
       "</table>\n",
       "</div>"
      ],
      "text/plain": [
       "            breitbart  NYT  HuffPost  Fox  total\n",
       "trump             236  316       563  367   1482\n",
       "said              172  368       403  245   1188\n",
       "presid            146  142       227  195    710\n",
       "mr                  3  675        12    8    698\n",
       "would              76  118       269  115    578\n",
       "state              74  128       230  107    539\n",
       "hous               74  147       154  112    487\n",
       "new                61  154       157   80    452\n",
       "time               76  170       138   67    451\n",
       "one                82   94       180   79    435\n",
       "peopl              68   96       182   71    417\n",
       "republican         99  123       100   76    398\n",
       "us                 84   27       174  110    395\n",
       "white              60  109       120   89    378\n",
       "american           82   85       144   53    364"
      ]
     },
     "execution_count": 22,
     "metadata": {},
     "output_type": "execute_result"
    }
   ],
   "source": [
    "df_most"
   ]
  },
  {
   "cell_type": "code",
   "execution_count": 23,
   "metadata": {
    "collapsed": true
   },
   "outputs": [],
   "source": [
    "df_sub = df.drop(['mr'])"
   ]
  },
  {
   "cell_type": "code",
   "execution_count": 24,
   "metadata": {
    "collapsed": false,
    "scrolled": false
   },
   "outputs": [
    {
     "name": "stdout",
     "output_type": "stream",
     "text": [
      "Distance Measure: Euclidian Norm (Freq)\n",
      "570.171026973 :  breitbart - NYT\n",
      "850.683254802 :  breitbart - HuffPost\n",
      "408.644099431 :  breitbart - Fox\n",
      "764.920257282 :  NYT - HuffPost\n",
      "519.933649613 :  NYT - Fox\n",
      "763.544366753 :  HuffPost - Fox\n"
     ]
    }
   ],
   "source": [
    "print_distances(df_sub,2,\"Euclidian Norm (Freq)\")"
   ]
  },
  {
   "cell_type": "code",
   "execution_count": 25,
   "metadata": {
    "collapsed": true
   },
   "outputs": [],
   "source": [
    "df_sub_prob = df_prob.drop(['mr'])"
   ]
  },
  {
   "cell_type": "code",
   "execution_count": 26,
   "metadata": {
    "collapsed": false,
    "scrolled": false
   },
   "outputs": [
    {
     "name": "stdout",
     "output_type": "stream",
     "text": [
      "Distance Measure: Euclidian Norm (Freq)\n",
      "0.0230900105348 :  breitbart - NYT\n",
      "0.0171954132433 :  breitbart - HuffPost\n",
      "0.0194977654054 :  breitbart - Fox\n",
      "0.0208076513569 :  NYT - HuffPost\n",
      "0.0219164432371 :  NYT - Fox\n",
      "0.0178634082943 :  HuffPost - Fox\n"
     ]
    }
   ],
   "source": [
    "print_distances(df_sub_prob,2,\"Euclidian Norm (Freq)\")"
   ]
  },
  {
   "cell_type": "code",
   "execution_count": 27,
   "metadata": {
    "collapsed": false,
    "scrolled": true
   },
   "outputs": [],
   "source": [
    "%matplotlib inline\n",
    "import numpy as np\n",
    "import matplotlib\n",
    "import matplotlib.mlab as mlab\n",
    "import matplotlib.pyplot as plt"
   ]
  },
  {
   "cell_type": "code",
   "execution_count": 28,
   "metadata": {
    "collapsed": true
   },
   "outputs": [],
   "source": [
    "def plot_mf_hist(df):\n",
    "    plt.rcParams['figure.figsize'] = (10, 10)\n",
    "    ind = np.arange(len(df_most))\n",
    "    width = 0.2\n",
    "    colors = [\"red\", \"blue\", \"green\", \"yellow\"]\n",
    "    fig, ax = plt.subplots()\n",
    "    for i in range(len(df.columns)-1):\n",
    "        col_name = df.columns[i]\n",
    "        ax.barh(ind + width*(i-1), df[col_name], width, color=colors[i], label=col_name)\n",
    "\n",
    "    ax.set(yticks=ind + width, yticklabels=df.index, ylim=[2*width - 1, len(df)])\n",
    "    ax.legend()\n",
    "    plt.show()"
   ]
  },
  {
   "cell_type": "code",
   "execution_count": 29,
   "metadata": {
    "collapsed": false
   },
   "outputs": [
    {
     "data": {
      "image/png": "[encoded data removed]",
      "text/plain": [
       "<matplotlib.figure.Figure at 0x118087ac8>"
      ]
     },
     "metadata": {},
     "output_type": "display_data"
    }
   ],
   "source": [
    "plot_mf_hist(df_most)"
   ]
  },
  {
   "cell_type": "code",
   "execution_count": null,
   "metadata": {
    "collapsed": true
   },
   "outputs": [],
   "source": []
  }
 ],
 "metadata": {
  "anaconda-cloud": {},
  "kernelspec": {
   "display_name": "Python 3",
   "language": "python",
   "name": "python3"
  },
  "language_info": {
   "codemirror_mode": {
    "name": "ipython",
    "version": 3
   },
   "file_extension": ".py",
   "mimetype": "text/x-python",
   "name": "python",
   "nbconvert_exporter": "python",
   "pygments_lexer": "ipython3",
   "version": "3.6.0"
  }
 },
 "nbformat": 4,
 "nbformat_minor": 0
}
