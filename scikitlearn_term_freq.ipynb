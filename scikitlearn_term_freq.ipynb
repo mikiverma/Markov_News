{
 "cells": [
  {
   "cell_type": "code",
   "execution_count": 1,
   "metadata": {
    "collapsed": true
   },
   "outputs": [],
   "source": [
    "from sklearn.feature_extraction.text import CountVectorizer\n",
    "from sklearn.feature_extraction.text import TfidfTransformer\n",
    "from sklearn.feature_extraction.text import TfidfVectorizer\n",
    "from nltk.tokenize import word_tokenize\n",
    "from nltk.corpus import stopwords\n",
    "import numpy as np\n",
    "import numpy.linalg as LA\n",
    "import re\n",
    "import nltk\n",
    "from nltk.stem.porter import PorterStemmer"
   ]
  },
  {
   "cell_type": "code",
   "execution_count": 2,
   "metadata": {
    "collapsed": true
   },
   "outputs": [],
   "source": [
    "import json\n",
    "from datetime import datetime as dt, date\n",
    "import collections\n",
    "import pandas as pd"
   ]
  },
  {
   "cell_type": "code",
   "execution_count": 225,
   "metadata": {
    "collapsed": false
   },
   "outputs": [],
   "source": [
    "from sklearn.metrics.pairwise import linear_kernel"
   ]
  },
  {
   "cell_type": "code",
   "execution_count": 165,
   "metadata": {
    "collapsed": false
   },
   "outputs": [],
   "source": [
    "sourcefnames = {'bloomberg' : 'data/scrapedbloomberg.json',\n",
    "                'breitbart' : 'data/scrapedbreitbart.json',\n",
    "                'cnn' : 'data/scrapedcnn.json',\n",
    "                'fox' : 'data/scrapedfox.json',\n",
    "                'guardian' : 'data/scrapedguardian.json',\n",
    "                #'natl review' : 'data/scrapednatreview.json',\n",
    "                'WaPo' : 'data/scrapedwapo.json'\n",
    "               }"
   ]
  },
  {
   "cell_type": "code",
   "execution_count": 178,
   "metadata": {
    "collapsed": false
   },
   "outputs": [],
   "source": [
    "urls = {}\n",
    "datecounts = {}\n",
    "articles = {}\n",
    "month_counts = {}\n",
    "\n",
    "for k, v in sourcefnames.items():\n",
    "    urls[k] = set()\n",
    "    datecounts[k] = {}\n",
    "    with open(v) as f:\n",
    "        for line in f:\n",
    "            art = json.loads(line)\n",
    "            max_articles = False\n",
    "            if art['date'] and art['sourceurl'] not in urls[k]:\n",
    "                dobj = dt.strptime(art['date'][0:10], '%Y-%m-%d')\n",
    "                art_length = (len(art['response_body']))\n",
    "                if ((dobj.year == 2017 and dobj.month in (1,2)) or (dobj.year == 2016 and dobj.month == 12) and art_length > 2000 and art_length < 10000):\n",
    "                    #print(len(art['response_body']))\n",
    "                    if dobj in datecounts[k]:\n",
    "                        if datecounts[k][dobj] <5:\n",
    "                            datecounts[k][dobj] += 1\n",
    "                        else:\n",
    "                            max_articles = True\n",
    "                    else:\n",
    "                        datecounts[k][dobj] = 1\n",
    "                    if not max_articles:\n",
    "                        urls[k].add(art['sourceurl'])\n",
    "                        if (dobj.month,k) in articles:\n",
    "                            articles[(dobj.month,k)].append(art['response_body'])\n",
    "                            month_counts[(dobj.month,k)]+=1\n",
    "                        else:\n",
    "                            articles[(dobj.month,k)]=list()\n",
    "                            articles[(dobj.month,k)].append(art['response_body'])\n",
    "                            month_counts[(dobj.month,k)]=1\n",
    "                            \n",
    "                    "
   ]
  },
  {
   "cell_type": "code",
   "execution_count": 190,
   "metadata": {
    "collapsed": false
   },
   "outputs": [
    {
     "data": {
      "text/plain": [
       "{(1, 'WaPo'): 32,\n",
       " (1, 'bloomberg'): 129,\n",
       " (1, 'breitbart'): 42,\n",
       " (1, 'cnn'): 121,\n",
       " (1, 'fox'): 71,\n",
       " (1, 'guardian'): 107,\n",
       " (2, 'WaPo'): 53,\n",
       " (2, 'bloomberg'): 99,\n",
       " (2, 'breitbart'): 80,\n",
       " (2, 'cnn'): 106,\n",
       " (2, 'fox'): 131,\n",
       " (2, 'guardian'): 44,\n",
       " (12, 'WaPo'): 16,\n",
       " (12, 'bloomberg'): 100,\n",
       " (12, 'breitbart'): 26,\n",
       " (12, 'cnn'): 29,\n",
       " (12, 'fox'): 41,\n",
       " (12, 'guardian'): 57}"
      ]
     },
     "execution_count": 190,
     "metadata": {},
     "output_type": "execute_result"
    }
   ],
   "source": [
    "month_counts"
   ]
  },
  {
   "cell_type": "code",
   "execution_count": 191,
   "metadata": {
    "collapsed": false
   },
   "outputs": [],
   "source": [
    "#datecounts"
   ]
  },
  {
   "cell_type": "code",
   "execution_count": 192,
   "metadata": {
    "collapsed": false
   },
   "outputs": [],
   "source": [
    "names = [k for k,v in sourcefnames.items()]"
   ]
  },
  {
   "cell_type": "code",
   "execution_count": 242,
   "metadata": {
    "collapsed": false
   },
   "outputs": [],
   "source": [
    "def getArticleSubset(month, article_text):\n",
    "    d_all = [article_text[t] for t in article_text if t[0] == month]\n",
    "    d = [doc[1::round(len(doc)/15)] for doc in d_all]\n",
    "#     for t in d:\n",
    "#         print(len(t))\n",
    "    d = [''.join(x) for x in d]\n",
    "#     for t in d:\n",
    "#         print(len(t))\n",
    "    return d"
   ]
  },
  {
   "cell_type": "code",
   "execution_count": 220,
   "metadata": {
    "collapsed": false
   },
   "outputs": [
    {
     "data": {
      "text/plain": [
       "['bloomberg', 'breitbart', 'cnn', 'fox', 'guardian', 'WaPo']"
      ]
     },
     "execution_count": 220,
     "metadata": {},
     "output_type": "execute_result"
    }
   ],
   "source": [
    "names"
   ]
  },
  {
   "cell_type": "code",
   "execution_count": 223,
   "metadata": {
    "collapsed": false
   },
   "outputs": [],
   "source": [
    "stopWords = stopwords.words('english')\n",
    "#stopWords.extend((\"sign\",\"newsletter\"))\n",
    "porter_stemmer = PorterStemmer()\n",
    "stop_stemmed = [porter_stemmer.stem(s) for s in stopWords]\n",
    "tokenize = lambda doc: list(filter(None,re.split(r\"\\W|\\d\",doc.lower())))\n",
    "def tokenize_stem(doc):\n",
    "    tokens = re.split(r\"\\W|\\d\",doc)\n",
    "    stemmed_tokens = [porter_stemmer.stem(t) for t in tokens if len(porter_stemmer.stem(t))>1]\n",
    "    return list(filter(None,stemmed_tokens))"
   ]
  },
  {
   "cell_type": "code",
   "execution_count": 48,
   "metadata": {
    "collapsed": true
   },
   "outputs": [],
   "source": [
    "def cosine_similarities_mat(m):\n",
    "    n = m.shape[0]\n",
    "    cs_array = np.zeros((n,n))\n",
    "    for i in range(n):\n",
    "        cs_array[i]=(linear_kernel(m[i:i+1], m).flatten())\n",
    "    return cs_array"
   ]
  },
  {
   "cell_type": "code",
   "execution_count": 49,
   "metadata": {
    "collapsed": false
   },
   "outputs": [],
   "source": [
    "def pearson_corr_mat(m):\n",
    "    n = m.shape[0]\n",
    "    pc_array_all = np.corrcoef(m.toarray(), m.toarray())\n",
    "    pc_array = np.zeros((n,n))\n",
    "    for i in range(n):\n",
    "        pc_array[i]=pc_array_all[i][0:n]\n",
    "    return pc_array"
   ]
  },
  {
   "cell_type": "code",
   "execution_count": 293,
   "metadata": {
    "collapsed": false
   },
   "outputs": [],
   "source": [
    "def getMostFreqTerms(n,d):\n",
    "    d_tokenized =[tokenize_stem(doc) for doc in d]\n",
    "    d_no_stop =[[w for w in d if w not in stop_stemmed] for d in d_tokenized]\n",
    "    d_Freq =[FreqDist(doc) for doc in d_no_stop]\n",
    "    d_common_n =[f.most_common(n) for f in d_Freq]\n",
    "    d_most_common_words = [list(zip(*d))[0] for d in d_common_n]\n",
    "    return d_most_common_words"
   ]
  },
  {
   "cell_type": "code",
   "execution_count": 302,
   "metadata": {
    "collapsed": true
   },
   "outputs": [],
   "source": [
    "def jaccard_similarity(d1, d2):\n",
    "    intersection = set(d1).intersection(set(d2))\n",
    "    union = set(d1).union(set(d2))\n",
    "    return len(intersection)/len(union)"
   ]
  },
  {
   "cell_type": "code",
   "execution_count": 303,
   "metadata": {
    "collapsed": false
   },
   "outputs": [],
   "source": [
    "def jaccard_similarity_mat(m):\n",
    "    n = len(m)\n",
    "    array = np.zeros((n,n))\n",
    "    for i in range(n):\n",
    "        for j in range(i,n):\n",
    "            sim = jaccard_similarity(m[i],m[j])\n",
    "            array[i][j] = sim\n",
    "            array[j][i] = sim\n",
    "    return array"
   ]
  },
  {
   "cell_type": "code",
   "execution_count": 363,
   "metadata": {
    "collapsed": false
   },
   "outputs": [
    {
     "ename": "SyntaxError",
     "evalue": "invalid syntax (<ipython-input-363-69db52a1fca8>, line 17)",
     "output_type": "error",
     "traceback": [
      "\u001b[0;36m  File \u001b[0;32m\"<ipython-input-363-69db52a1fca8>\"\u001b[0;36m, line \u001b[0;32m17\u001b[0m\n\u001b[0;31m    skip = True\u001b[0m\n\u001b[0m       ^\u001b[0m\n\u001b[0;31mSyntaxError\u001b[0m\u001b[0;31m:\u001b[0m invalid syntax\n"
     ]
    }
   ],
   "source": [
    "def getDistancebyTime(months,articles,distance_measure = 'C',sublinear=True,ngram_range = (1,1),max_terms = None,js_most_freq = 50):\n",
    "    dfs = []\n",
    "    for m in months:\n",
    "        d = getArticleSubset(m,articles)\n",
    "        tfidf_vec = TfidfVectorizer(stop_words = stop_stemmed,tokenizer=tokenize_stem,sublinear_tf=sublinear,ngram_range=(1,1),max_features=max_terms)\n",
    "        tfidf = tfidf_vec.fit_transform(d)\n",
    "        if distance_measure == 'C':\n",
    "            distance_mat = cosine_similarities_mat(tfidf)\n",
    "        elif distance_measure == 'P':\n",
    "            distance_mat = pearson_corr_mat(tfidf) \n",
    "        elif distance_measure == 'J':\n",
    "            freq_terms = getMostFreqTerms(js_most_freq,d)\n",
    "            distance_mat = jaccard_similarity_mat(freq_terms)\n",
    "        df = pd.DataFrame(distance_mat,index = names,columns = names)\n",
    "        dfs.append(df)\n",
    "    return dfs"
   ]
  },
  {
   "cell_type": "code",
   "execution_count": 321,
   "metadata": {
    "collapsed": false,
    "scrolled": true
   },
   "outputs": [],
   "source": [
    "months = [12,1,2]\n",
    "cs= getDistancebyTime(months,articles,sublinear=False,distance_measure='C')"
   ]
  },
  {
   "cell_type": "code",
   "execution_count": 322,
   "metadata": {
    "collapsed": false,
    "scrolled": true
   },
   "outputs": [
    {
     "data": {
      "text/html": [
       "<div>\n",
       "<table border=\"1\" class=\"dataframe\">\n",
       "  <thead>\n",
       "    <tr style=\"text-align: right;\">\n",
       "      <th></th>\n",
       "      <th>bloomberg</th>\n",
       "      <th>breitbart</th>\n",
       "      <th>cnn</th>\n",
       "      <th>fox</th>\n",
       "      <th>guardian</th>\n",
       "      <th>WaPo</th>\n",
       "    </tr>\n",
       "  </thead>\n",
       "  <tbody>\n",
       "    <tr>\n",
       "      <th>bloomberg</th>\n",
       "      <td>1.000000</td>\n",
       "      <td>0.340292</td>\n",
       "      <td>0.550078</td>\n",
       "      <td>0.518221</td>\n",
       "      <td>0.492328</td>\n",
       "      <td>0.521149</td>\n",
       "    </tr>\n",
       "    <tr>\n",
       "      <th>breitbart</th>\n",
       "      <td>0.340292</td>\n",
       "      <td>1.000000</td>\n",
       "      <td>0.380073</td>\n",
       "      <td>0.395800</td>\n",
       "      <td>0.369892</td>\n",
       "      <td>0.362280</td>\n",
       "    </tr>\n",
       "    <tr>\n",
       "      <th>cnn</th>\n",
       "      <td>0.550078</td>\n",
       "      <td>0.380073</td>\n",
       "      <td>1.000000</td>\n",
       "      <td>0.584821</td>\n",
       "      <td>0.614435</td>\n",
       "      <td>0.766413</td>\n",
       "    </tr>\n",
       "    <tr>\n",
       "      <th>fox</th>\n",
       "      <td>0.518221</td>\n",
       "      <td>0.395800</td>\n",
       "      <td>0.584821</td>\n",
       "      <td>1.000000</td>\n",
       "      <td>0.518333</td>\n",
       "      <td>0.593294</td>\n",
       "    </tr>\n",
       "    <tr>\n",
       "      <th>guardian</th>\n",
       "      <td>0.492328</td>\n",
       "      <td>0.369892</td>\n",
       "      <td>0.614435</td>\n",
       "      <td>0.518333</td>\n",
       "      <td>1.000000</td>\n",
       "      <td>0.634701</td>\n",
       "    </tr>\n",
       "    <tr>\n",
       "      <th>WaPo</th>\n",
       "      <td>0.521149</td>\n",
       "      <td>0.362280</td>\n",
       "      <td>0.766413</td>\n",
       "      <td>0.593294</td>\n",
       "      <td>0.634701</td>\n",
       "      <td>1.000000</td>\n",
       "    </tr>\n",
       "  </tbody>\n",
       "</table>\n",
       "</div>"
      ],
      "text/plain": [
       "           bloomberg  breitbart       cnn       fox  guardian      WaPo\n",
       "bloomberg   1.000000   0.340292  0.550078  0.518221  0.492328  0.521149\n",
       "breitbart   0.340292   1.000000  0.380073  0.395800  0.369892  0.362280\n",
       "cnn         0.550078   0.380073  1.000000  0.584821  0.614435  0.766413\n",
       "fox         0.518221   0.395800  0.584821  1.000000  0.518333  0.593294\n",
       "guardian    0.492328   0.369892  0.614435  0.518333  1.000000  0.634701\n",
       "WaPo        0.521149   0.362280  0.766413  0.593294  0.634701  1.000000"
      ]
     },
     "execution_count": 322,
     "metadata": {},
     "output_type": "execute_result"
    }
   ],
   "source": [
    "#look at distance matrix for specific months (e.g. Dec=0)\n",
    "cs[0]"
   ]
  },
  {
   "cell_type": "code",
   "execution_count": 323,
   "metadata": {
    "collapsed": false,
    "scrolled": true
   },
   "outputs": [
    {
     "data": {
      "text/html": [
       "<div>\n",
       "<table border=\"1\" class=\"dataframe\">\n",
       "  <thead>\n",
       "    <tr style=\"text-align: right;\">\n",
       "      <th></th>\n",
       "      <th>bloomberg</th>\n",
       "      <th>breitbart</th>\n",
       "      <th>cnn</th>\n",
       "      <th>fox</th>\n",
       "      <th>guardian</th>\n",
       "      <th>WaPo</th>\n",
       "    </tr>\n",
       "  </thead>\n",
       "  <tbody>\n",
       "    <tr>\n",
       "      <th>bloomberg</th>\n",
       "      <td>1.000000</td>\n",
       "      <td>0.440700</td>\n",
       "      <td>0.653540</td>\n",
       "      <td>0.618204</td>\n",
       "      <td>0.550312</td>\n",
       "      <td>0.637483</td>\n",
       "    </tr>\n",
       "    <tr>\n",
       "      <th>breitbart</th>\n",
       "      <td>0.440700</td>\n",
       "      <td>1.000000</td>\n",
       "      <td>0.501656</td>\n",
       "      <td>0.505754</td>\n",
       "      <td>0.503854</td>\n",
       "      <td>0.494652</td>\n",
       "    </tr>\n",
       "    <tr>\n",
       "      <th>cnn</th>\n",
       "      <td>0.653540</td>\n",
       "      <td>0.501656</td>\n",
       "      <td>1.000000</td>\n",
       "      <td>0.705739</td>\n",
       "      <td>0.670499</td>\n",
       "      <td>0.758422</td>\n",
       "    </tr>\n",
       "    <tr>\n",
       "      <th>fox</th>\n",
       "      <td>0.618204</td>\n",
       "      <td>0.505754</td>\n",
       "      <td>0.705739</td>\n",
       "      <td>1.000000</td>\n",
       "      <td>0.639664</td>\n",
       "      <td>0.704908</td>\n",
       "    </tr>\n",
       "    <tr>\n",
       "      <th>guardian</th>\n",
       "      <td>0.550312</td>\n",
       "      <td>0.503854</td>\n",
       "      <td>0.670499</td>\n",
       "      <td>0.639664</td>\n",
       "      <td>1.000000</td>\n",
       "      <td>0.691629</td>\n",
       "    </tr>\n",
       "    <tr>\n",
       "      <th>WaPo</th>\n",
       "      <td>0.637483</td>\n",
       "      <td>0.494652</td>\n",
       "      <td>0.758422</td>\n",
       "      <td>0.704908</td>\n",
       "      <td>0.691629</td>\n",
       "      <td>1.000000</td>\n",
       "    </tr>\n",
       "  </tbody>\n",
       "</table>\n",
       "</div>"
      ],
      "text/plain": [
       "           bloomberg  breitbart       cnn       fox  guardian      WaPo\n",
       "bloomberg   1.000000   0.440700  0.653540  0.618204  0.550312  0.637483\n",
       "breitbart   0.440700   1.000000  0.501656  0.505754  0.503854  0.494652\n",
       "cnn         0.653540   0.501656  1.000000  0.705739  0.670499  0.758422\n",
       "fox         0.618204   0.505754  0.705739  1.000000  0.639664  0.704908\n",
       "guardian    0.550312   0.503854  0.670499  0.639664  1.000000  0.691629\n",
       "WaPo        0.637483   0.494652  0.758422  0.704908  0.691629  1.000000"
      ]
     },
     "execution_count": 323,
     "metadata": {},
     "output_type": "execute_result"
    }
   ],
   "source": [
    "cs[1]"
   ]
  },
  {
   "cell_type": "code",
   "execution_count": 324,
   "metadata": {
    "collapsed": false
   },
   "outputs": [
    {
     "data": {
      "text/html": [
       "<div>\n",
       "<table border=\"1\" class=\"dataframe\">\n",
       "  <thead>\n",
       "    <tr style=\"text-align: right;\">\n",
       "      <th></th>\n",
       "      <th>bloomberg</th>\n",
       "      <th>breitbart</th>\n",
       "      <th>cnn</th>\n",
       "      <th>fox</th>\n",
       "      <th>guardian</th>\n",
       "      <th>WaPo</th>\n",
       "    </tr>\n",
       "  </thead>\n",
       "  <tbody>\n",
       "    <tr>\n",
       "      <th>bloomberg</th>\n",
       "      <td>1.000000</td>\n",
       "      <td>0.450372</td>\n",
       "      <td>0.463395</td>\n",
       "      <td>0.454358</td>\n",
       "      <td>0.468434</td>\n",
       "      <td>0.505854</td>\n",
       "    </tr>\n",
       "    <tr>\n",
       "      <th>breitbart</th>\n",
       "      <td>0.450372</td>\n",
       "      <td>1.000000</td>\n",
       "      <td>0.542902</td>\n",
       "      <td>0.512624</td>\n",
       "      <td>0.487690</td>\n",
       "      <td>0.523634</td>\n",
       "    </tr>\n",
       "    <tr>\n",
       "      <th>cnn</th>\n",
       "      <td>0.463395</td>\n",
       "      <td>0.542902</td>\n",
       "      <td>1.000000</td>\n",
       "      <td>0.569048</td>\n",
       "      <td>0.631362</td>\n",
       "      <td>0.636983</td>\n",
       "    </tr>\n",
       "    <tr>\n",
       "      <th>fox</th>\n",
       "      <td>0.454358</td>\n",
       "      <td>0.512624</td>\n",
       "      <td>0.569048</td>\n",
       "      <td>1.000000</td>\n",
       "      <td>0.534134</td>\n",
       "      <td>0.605160</td>\n",
       "    </tr>\n",
       "    <tr>\n",
       "      <th>guardian</th>\n",
       "      <td>0.468434</td>\n",
       "      <td>0.487690</td>\n",
       "      <td>0.631362</td>\n",
       "      <td>0.534134</td>\n",
       "      <td>1.000000</td>\n",
       "      <td>0.572931</td>\n",
       "    </tr>\n",
       "    <tr>\n",
       "      <th>WaPo</th>\n",
       "      <td>0.505854</td>\n",
       "      <td>0.523634</td>\n",
       "      <td>0.636983</td>\n",
       "      <td>0.605160</td>\n",
       "      <td>0.572931</td>\n",
       "      <td>1.000000</td>\n",
       "    </tr>\n",
       "  </tbody>\n",
       "</table>\n",
       "</div>"
      ],
      "text/plain": [
       "           bloomberg  breitbart       cnn       fox  guardian      WaPo\n",
       "bloomberg   1.000000   0.450372  0.463395  0.454358  0.468434  0.505854\n",
       "breitbart   0.450372   1.000000  0.542902  0.512624  0.487690  0.523634\n",
       "cnn         0.463395   0.542902  1.000000  0.569048  0.631362  0.636983\n",
       "fox         0.454358   0.512624  0.569048  1.000000  0.534134  0.605160\n",
       "guardian    0.468434   0.487690  0.631362  0.534134  1.000000  0.572931\n",
       "WaPo        0.505854   0.523634  0.636983  0.605160  0.572931  1.000000"
      ]
     },
     "execution_count": 324,
     "metadata": {},
     "output_type": "execute_result"
    }
   ],
   "source": [
    "cs[2]"
   ]
  },
  {
   "cell_type": "code",
   "execution_count": 325,
   "metadata": {
    "collapsed": false,
    "scrolled": true
   },
   "outputs": [
    {
     "data": {
      "text/html": [
       "<div>\n",
       "<table border=\"1\" class=\"dataframe\">\n",
       "  <thead>\n",
       "    <tr style=\"text-align: right;\">\n",
       "      <th></th>\n",
       "      <th>bloomberg</th>\n",
       "      <th>breitbart</th>\n",
       "      <th>cnn</th>\n",
       "      <th>fox</th>\n",
       "      <th>guardian</th>\n",
       "      <th>WaPo</th>\n",
       "    </tr>\n",
       "  </thead>\n",
       "  <tbody>\n",
       "    <tr>\n",
       "      <th>bloomberg</th>\n",
       "      <td>0.00</td>\n",
       "      <td>-0.10</td>\n",
       "      <td>-0.10</td>\n",
       "      <td>-0.10</td>\n",
       "      <td>-0.06</td>\n",
       "      <td>-0.12</td>\n",
       "    </tr>\n",
       "    <tr>\n",
       "      <th>breitbart</th>\n",
       "      <td>-0.10</td>\n",
       "      <td>-0.00</td>\n",
       "      <td>-0.12</td>\n",
       "      <td>-0.11</td>\n",
       "      <td>-0.13</td>\n",
       "      <td>-0.13</td>\n",
       "    </tr>\n",
       "    <tr>\n",
       "      <th>cnn</th>\n",
       "      <td>-0.10</td>\n",
       "      <td>-0.12</td>\n",
       "      <td>0.00</td>\n",
       "      <td>-0.12</td>\n",
       "      <td>-0.06</td>\n",
       "      <td>0.01</td>\n",
       "    </tr>\n",
       "    <tr>\n",
       "      <th>fox</th>\n",
       "      <td>-0.10</td>\n",
       "      <td>-0.11</td>\n",
       "      <td>-0.12</td>\n",
       "      <td>-0.00</td>\n",
       "      <td>-0.12</td>\n",
       "      <td>-0.11</td>\n",
       "    </tr>\n",
       "    <tr>\n",
       "      <th>guardian</th>\n",
       "      <td>-0.06</td>\n",
       "      <td>-0.13</td>\n",
       "      <td>-0.06</td>\n",
       "      <td>-0.12</td>\n",
       "      <td>-0.00</td>\n",
       "      <td>-0.06</td>\n",
       "    </tr>\n",
       "    <tr>\n",
       "      <th>WaPo</th>\n",
       "      <td>-0.12</td>\n",
       "      <td>-0.13</td>\n",
       "      <td>0.01</td>\n",
       "      <td>-0.11</td>\n",
       "      <td>-0.06</td>\n",
       "      <td>0.00</td>\n",
       "    </tr>\n",
       "  </tbody>\n",
       "</table>\n",
       "</div>"
      ],
      "text/plain": [
       "           bloomberg  breitbart   cnn   fox  guardian  WaPo\n",
       "bloomberg       0.00      -0.10 -0.10 -0.10     -0.06 -0.12\n",
       "breitbart      -0.10      -0.00 -0.12 -0.11     -0.13 -0.13\n",
       "cnn            -0.10      -0.12  0.00 -0.12     -0.06  0.01\n",
       "fox            -0.10      -0.11 -0.12 -0.00     -0.12 -0.11\n",
       "guardian       -0.06      -0.13 -0.06 -0.12     -0.00 -0.06\n",
       "WaPo           -0.12      -0.13  0.01 -0.11     -0.06  0.00"
      ]
     },
     "execution_count": 325,
     "metadata": {},
     "output_type": "execute_result"
    }
   ],
   "source": [
    "#compare months (eg dec(0) and jan(1))\n",
    "round(cs[0]-cs[1],2)"
   ]
  },
  {
   "cell_type": "code",
   "execution_count": 326,
   "metadata": {
    "collapsed": false
   },
   "outputs": [],
   "source": [
    "#Pearson Distance Measures\n",
    "pc = getDistancebyTime(months,articles,distance_measure='P',sublinear=False)"
   ]
  },
  {
   "cell_type": "code",
   "execution_count": 327,
   "metadata": {
    "collapsed": false
   },
   "outputs": [
    {
     "data": {
      "text/html": [
       "<div>\n",
       "<table border=\"1\" class=\"dataframe\">\n",
       "  <thead>\n",
       "    <tr style=\"text-align: right;\">\n",
       "      <th></th>\n",
       "      <th>bloomberg</th>\n",
       "      <th>breitbart</th>\n",
       "      <th>cnn</th>\n",
       "      <th>fox</th>\n",
       "      <th>guardian</th>\n",
       "      <th>WaPo</th>\n",
       "    </tr>\n",
       "  </thead>\n",
       "  <tbody>\n",
       "    <tr>\n",
       "      <th>bloomberg</th>\n",
       "      <td>1.000000</td>\n",
       "      <td>0.265284</td>\n",
       "      <td>0.498590</td>\n",
       "      <td>0.457335</td>\n",
       "      <td>0.414940</td>\n",
       "      <td>0.469849</td>\n",
       "    </tr>\n",
       "    <tr>\n",
       "      <th>breitbart</th>\n",
       "      <td>0.265284</td>\n",
       "      <td>1.000000</td>\n",
       "      <td>0.313997</td>\n",
       "      <td>0.325045</td>\n",
       "      <td>0.280725</td>\n",
       "      <td>0.298341</td>\n",
       "    </tr>\n",
       "    <tr>\n",
       "      <th>cnn</th>\n",
       "      <td>0.498590</td>\n",
       "      <td>0.313997</td>\n",
       "      <td>1.000000</td>\n",
       "      <td>0.535965</td>\n",
       "      <td>0.561775</td>\n",
       "      <td>0.742926</td>\n",
       "    </tr>\n",
       "    <tr>\n",
       "      <th>fox</th>\n",
       "      <td>0.457335</td>\n",
       "      <td>0.325045</td>\n",
       "      <td>0.535965</td>\n",
       "      <td>1.000000</td>\n",
       "      <td>0.442240</td>\n",
       "      <td>0.548714</td>\n",
       "    </tr>\n",
       "    <tr>\n",
       "      <th>guardian</th>\n",
       "      <td>0.414940</td>\n",
       "      <td>0.280725</td>\n",
       "      <td>0.561775</td>\n",
       "      <td>0.442240</td>\n",
       "      <td>1.000000</td>\n",
       "      <td>0.589670</td>\n",
       "    </tr>\n",
       "    <tr>\n",
       "      <th>WaPo</th>\n",
       "      <td>0.469849</td>\n",
       "      <td>0.298341</td>\n",
       "      <td>0.742926</td>\n",
       "      <td>0.548714</td>\n",
       "      <td>0.589670</td>\n",
       "      <td>1.000000</td>\n",
       "    </tr>\n",
       "  </tbody>\n",
       "</table>\n",
       "</div>"
      ],
      "text/plain": [
       "           bloomberg  breitbart       cnn       fox  guardian      WaPo\n",
       "bloomberg   1.000000   0.265284  0.498590  0.457335  0.414940  0.469849\n",
       "breitbart   0.265284   1.000000  0.313997  0.325045  0.280725  0.298341\n",
       "cnn         0.498590   0.313997  1.000000  0.535965  0.561775  0.742926\n",
       "fox         0.457335   0.325045  0.535965  1.000000  0.442240  0.548714\n",
       "guardian    0.414940   0.280725  0.561775  0.442240  1.000000  0.589670\n",
       "WaPo        0.469849   0.298341  0.742926  0.548714  0.589670  1.000000"
      ]
     },
     "execution_count": 327,
     "metadata": {},
     "output_type": "execute_result"
    }
   ],
   "source": [
    "pc[0]"
   ]
  },
  {
   "cell_type": "code",
   "execution_count": 328,
   "metadata": {
    "collapsed": false,
    "scrolled": true
   },
   "outputs": [
    {
     "data": {
      "text/html": [
       "<div>\n",
       "<table border=\"1\" class=\"dataframe\">\n",
       "  <thead>\n",
       "    <tr style=\"text-align: right;\">\n",
       "      <th></th>\n",
       "      <th>bloomberg</th>\n",
       "      <th>breitbart</th>\n",
       "      <th>cnn</th>\n",
       "      <th>fox</th>\n",
       "      <th>guardian</th>\n",
       "      <th>WaPo</th>\n",
       "    </tr>\n",
       "  </thead>\n",
       "  <tbody>\n",
       "    <tr>\n",
       "      <th>bloomberg</th>\n",
       "      <td>1.000000</td>\n",
       "      <td>0.360665</td>\n",
       "      <td>0.611423</td>\n",
       "      <td>0.564499</td>\n",
       "      <td>0.484200</td>\n",
       "      <td>0.594351</td>\n",
       "    </tr>\n",
       "    <tr>\n",
       "      <th>breitbart</th>\n",
       "      <td>0.360665</td>\n",
       "      <td>1.000000</td>\n",
       "      <td>0.442688</td>\n",
       "      <td>0.439253</td>\n",
       "      <td>0.434273</td>\n",
       "      <td>0.436035</td>\n",
       "    </tr>\n",
       "    <tr>\n",
       "      <th>cnn</th>\n",
       "      <td>0.611423</td>\n",
       "      <td>0.442688</td>\n",
       "      <td>1.000000</td>\n",
       "      <td>0.671696</td>\n",
       "      <td>0.631091</td>\n",
       "      <td>0.733707</td>\n",
       "    </tr>\n",
       "    <tr>\n",
       "      <th>fox</th>\n",
       "      <td>0.564499</td>\n",
       "      <td>0.439253</td>\n",
       "      <td>0.671696</td>\n",
       "      <td>1.000000</td>\n",
       "      <td>0.589942</td>\n",
       "      <td>0.671541</td>\n",
       "    </tr>\n",
       "    <tr>\n",
       "      <th>guardian</th>\n",
       "      <td>0.484200</td>\n",
       "      <td>0.434273</td>\n",
       "      <td>0.631091</td>\n",
       "      <td>0.589942</td>\n",
       "      <td>1.000000</td>\n",
       "      <td>0.655722</td>\n",
       "    </tr>\n",
       "    <tr>\n",
       "      <th>WaPo</th>\n",
       "      <td>0.594351</td>\n",
       "      <td>0.436035</td>\n",
       "      <td>0.733707</td>\n",
       "      <td>0.671541</td>\n",
       "      <td>0.655722</td>\n",
       "      <td>1.000000</td>\n",
       "    </tr>\n",
       "  </tbody>\n",
       "</table>\n",
       "</div>"
      ],
      "text/plain": [
       "           bloomberg  breitbart       cnn       fox  guardian      WaPo\n",
       "bloomberg   1.000000   0.360665  0.611423  0.564499  0.484200  0.594351\n",
       "breitbart   0.360665   1.000000  0.442688  0.439253  0.434273  0.436035\n",
       "cnn         0.611423   0.442688  1.000000  0.671696  0.631091  0.733707\n",
       "fox         0.564499   0.439253  0.671696  1.000000  0.589942  0.671541\n",
       "guardian    0.484200   0.434273  0.631091  0.589942  1.000000  0.655722\n",
       "WaPo        0.594351   0.436035  0.733707  0.671541  0.655722  1.000000"
      ]
     },
     "execution_count": 328,
     "metadata": {},
     "output_type": "execute_result"
    }
   ],
   "source": [
    "pc[1]"
   ]
  },
  {
   "cell_type": "code",
   "execution_count": 329,
   "metadata": {
    "collapsed": false
   },
   "outputs": [
    {
     "data": {
      "text/html": [
       "<div>\n",
       "<table border=\"1\" class=\"dataframe\">\n",
       "  <thead>\n",
       "    <tr style=\"text-align: right;\">\n",
       "      <th></th>\n",
       "      <th>bloomberg</th>\n",
       "      <th>breitbart</th>\n",
       "      <th>cnn</th>\n",
       "      <th>fox</th>\n",
       "      <th>guardian</th>\n",
       "      <th>WaPo</th>\n",
       "    </tr>\n",
       "  </thead>\n",
       "  <tbody>\n",
       "    <tr>\n",
       "      <th>bloomberg</th>\n",
       "      <td>1.000000</td>\n",
       "      <td>0.373836</td>\n",
       "      <td>0.400441</td>\n",
       "      <td>0.383219</td>\n",
       "      <td>0.385192</td>\n",
       "      <td>0.450903</td>\n",
       "    </tr>\n",
       "    <tr>\n",
       "      <th>breitbart</th>\n",
       "      <td>0.373836</td>\n",
       "      <td>1.000000</td>\n",
       "      <td>0.487225</td>\n",
       "      <td>0.446168</td>\n",
       "      <td>0.403204</td>\n",
       "      <td>0.468666</td>\n",
       "    </tr>\n",
       "    <tr>\n",
       "      <th>cnn</th>\n",
       "      <td>0.400441</td>\n",
       "      <td>0.487225</td>\n",
       "      <td>1.000000</td>\n",
       "      <td>0.519496</td>\n",
       "      <td>0.582950</td>\n",
       "      <td>0.600774</td>\n",
       "    </tr>\n",
       "    <tr>\n",
       "      <th>fox</th>\n",
       "      <td>0.383219</td>\n",
       "      <td>0.446168</td>\n",
       "      <td>0.519496</td>\n",
       "      <td>1.000000</td>\n",
       "      <td>0.463128</td>\n",
       "      <td>0.562202</td>\n",
       "    </tr>\n",
       "    <tr>\n",
       "      <th>guardian</th>\n",
       "      <td>0.385192</td>\n",
       "      <td>0.403204</td>\n",
       "      <td>0.582950</td>\n",
       "      <td>0.463128</td>\n",
       "      <td>1.000000</td>\n",
       "      <td>0.519595</td>\n",
       "    </tr>\n",
       "    <tr>\n",
       "      <th>WaPo</th>\n",
       "      <td>0.450903</td>\n",
       "      <td>0.468666</td>\n",
       "      <td>0.600774</td>\n",
       "      <td>0.562202</td>\n",
       "      <td>0.519595</td>\n",
       "      <td>1.000000</td>\n",
       "    </tr>\n",
       "  </tbody>\n",
       "</table>\n",
       "</div>"
      ],
      "text/plain": [
       "           bloomberg  breitbart       cnn       fox  guardian      WaPo\n",
       "bloomberg   1.000000   0.373836  0.400441  0.383219  0.385192  0.450903\n",
       "breitbart   0.373836   1.000000  0.487225  0.446168  0.403204  0.468666\n",
       "cnn         0.400441   0.487225  1.000000  0.519496  0.582950  0.600774\n",
       "fox         0.383219   0.446168  0.519496  1.000000  0.463128  0.562202\n",
       "guardian    0.385192   0.403204  0.582950  0.463128  1.000000  0.519595\n",
       "WaPo        0.450903   0.468666  0.600774  0.562202  0.519595  1.000000"
      ]
     },
     "execution_count": 329,
     "metadata": {},
     "output_type": "execute_result"
    }
   ],
   "source": [
    "pc[2]"
   ]
  },
  {
   "cell_type": "code",
   "execution_count": 330,
   "metadata": {
    "collapsed": false
   },
   "outputs": [],
   "source": [
    "js = getDistancebyTime(months,articles,distance_measure='J',js_most_freq=100)"
   ]
  },
  {
   "cell_type": "code",
   "execution_count": 331,
   "metadata": {
    "collapsed": false
   },
   "outputs": [
    {
     "data": {
      "text/html": [
       "<div>\n",
       "<table border=\"1\" class=\"dataframe\">\n",
       "  <thead>\n",
       "    <tr style=\"text-align: right;\">\n",
       "      <th></th>\n",
       "      <th>bloomberg</th>\n",
       "      <th>breitbart</th>\n",
       "      <th>cnn</th>\n",
       "      <th>fox</th>\n",
       "      <th>guardian</th>\n",
       "      <th>WaPo</th>\n",
       "    </tr>\n",
       "  </thead>\n",
       "  <tbody>\n",
       "    <tr>\n",
       "      <th>bloomberg</th>\n",
       "      <td>1.000000</td>\n",
       "      <td>0.190476</td>\n",
       "      <td>0.219512</td>\n",
       "      <td>0.234568</td>\n",
       "      <td>0.219512</td>\n",
       "      <td>0.257862</td>\n",
       "    </tr>\n",
       "    <tr>\n",
       "      <th>breitbart</th>\n",
       "      <td>0.190476</td>\n",
       "      <td>1.000000</td>\n",
       "      <td>0.176471</td>\n",
       "      <td>0.226994</td>\n",
       "      <td>0.234568</td>\n",
       "      <td>0.219512</td>\n",
       "    </tr>\n",
       "    <tr>\n",
       "      <th>cnn</th>\n",
       "      <td>0.219512</td>\n",
       "      <td>0.176471</td>\n",
       "      <td>1.000000</td>\n",
       "      <td>0.273885</td>\n",
       "      <td>0.298701</td>\n",
       "      <td>0.398601</td>\n",
       "    </tr>\n",
       "    <tr>\n",
       "      <th>fox</th>\n",
       "      <td>0.234568</td>\n",
       "      <td>0.226994</td>\n",
       "      <td>0.273885</td>\n",
       "      <td>1.000000</td>\n",
       "      <td>0.242236</td>\n",
       "      <td>0.273885</td>\n",
       "    </tr>\n",
       "    <tr>\n",
       "      <th>guardian</th>\n",
       "      <td>0.219512</td>\n",
       "      <td>0.234568</td>\n",
       "      <td>0.298701</td>\n",
       "      <td>0.242236</td>\n",
       "      <td>1.000000</td>\n",
       "      <td>0.282051</td>\n",
       "    </tr>\n",
       "    <tr>\n",
       "      <th>WaPo</th>\n",
       "      <td>0.257862</td>\n",
       "      <td>0.219512</td>\n",
       "      <td>0.398601</td>\n",
       "      <td>0.273885</td>\n",
       "      <td>0.282051</td>\n",
       "      <td>1.000000</td>\n",
       "    </tr>\n",
       "  </tbody>\n",
       "</table>\n",
       "</div>"
      ],
      "text/plain": [
       "           bloomberg  breitbart       cnn       fox  guardian      WaPo\n",
       "bloomberg   1.000000   0.190476  0.219512  0.234568  0.219512  0.257862\n",
       "breitbart   0.190476   1.000000  0.176471  0.226994  0.234568  0.219512\n",
       "cnn         0.219512   0.176471  1.000000  0.273885  0.298701  0.398601\n",
       "fox         0.234568   0.226994  0.273885  1.000000  0.242236  0.273885\n",
       "guardian    0.219512   0.234568  0.298701  0.242236  1.000000  0.282051\n",
       "WaPo        0.257862   0.219512  0.398601  0.273885  0.282051  1.000000"
      ]
     },
     "execution_count": 331,
     "metadata": {},
     "output_type": "execute_result"
    }
   ],
   "source": [
    "js[0]"
   ]
  },
  {
   "cell_type": "code",
   "execution_count": 332,
   "metadata": {
    "collapsed": false,
    "scrolled": true
   },
   "outputs": [
    {
     "data": {
      "text/html": [
       "<div>\n",
       "<table border=\"1\" class=\"dataframe\">\n",
       "  <thead>\n",
       "    <tr style=\"text-align: right;\">\n",
       "      <th></th>\n",
       "      <th>bloomberg</th>\n",
       "      <th>breitbart</th>\n",
       "      <th>cnn</th>\n",
       "      <th>fox</th>\n",
       "      <th>guardian</th>\n",
       "      <th>WaPo</th>\n",
       "    </tr>\n",
       "  </thead>\n",
       "  <tbody>\n",
       "    <tr>\n",
       "      <th>bloomberg</th>\n",
       "      <td>1.000000</td>\n",
       "      <td>0.234568</td>\n",
       "      <td>0.369863</td>\n",
       "      <td>0.333333</td>\n",
       "      <td>0.242236</td>\n",
       "      <td>0.342282</td>\n",
       "    </tr>\n",
       "    <tr>\n",
       "      <th>breitbart</th>\n",
       "      <td>0.234568</td>\n",
       "      <td>1.000000</td>\n",
       "      <td>0.250000</td>\n",
       "      <td>0.273885</td>\n",
       "      <td>0.197605</td>\n",
       "      <td>0.242236</td>\n",
       "    </tr>\n",
       "    <tr>\n",
       "      <th>cnn</th>\n",
       "      <td>0.369863</td>\n",
       "      <td>0.250000</td>\n",
       "      <td>1.000000</td>\n",
       "      <td>0.438849</td>\n",
       "      <td>0.324503</td>\n",
       "      <td>0.418440</td>\n",
       "    </tr>\n",
       "    <tr>\n",
       "      <th>fox</th>\n",
       "      <td>0.333333</td>\n",
       "      <td>0.273885</td>\n",
       "      <td>0.438849</td>\n",
       "      <td>1.000000</td>\n",
       "      <td>0.315789</td>\n",
       "      <td>0.388889</td>\n",
       "    </tr>\n",
       "    <tr>\n",
       "      <th>guardian</th>\n",
       "      <td>0.242236</td>\n",
       "      <td>0.197605</td>\n",
       "      <td>0.324503</td>\n",
       "      <td>0.315789</td>\n",
       "      <td>1.000000</td>\n",
       "      <td>0.333333</td>\n",
       "    </tr>\n",
       "    <tr>\n",
       "      <th>WaPo</th>\n",
       "      <td>0.342282</td>\n",
       "      <td>0.242236</td>\n",
       "      <td>0.418440</td>\n",
       "      <td>0.388889</td>\n",
       "      <td>0.333333</td>\n",
       "      <td>1.000000</td>\n",
       "    </tr>\n",
       "  </tbody>\n",
       "</table>\n",
       "</div>"
      ],
      "text/plain": [
       "           bloomberg  breitbart       cnn       fox  guardian      WaPo\n",
       "bloomberg   1.000000   0.234568  0.369863  0.333333  0.242236  0.342282\n",
       "breitbart   0.234568   1.000000  0.250000  0.273885  0.197605  0.242236\n",
       "cnn         0.369863   0.250000  1.000000  0.438849  0.324503  0.418440\n",
       "fox         0.333333   0.273885  0.438849  1.000000  0.315789  0.388889\n",
       "guardian    0.242236   0.197605  0.324503  0.315789  1.000000  0.333333\n",
       "WaPo        0.342282   0.242236  0.418440  0.388889  0.333333  1.000000"
      ]
     },
     "execution_count": 332,
     "metadata": {},
     "output_type": "execute_result"
    }
   ],
   "source": [
    "js[1]"
   ]
  },
  {
   "cell_type": "code",
   "execution_count": 333,
   "metadata": {
    "collapsed": false
   },
   "outputs": [
    {
     "data": {
      "text/html": [
       "<div>\n",
       "<table border=\"1\" class=\"dataframe\">\n",
       "  <thead>\n",
       "    <tr style=\"text-align: right;\">\n",
       "      <th></th>\n",
       "      <th>bloomberg</th>\n",
       "      <th>breitbart</th>\n",
       "      <th>cnn</th>\n",
       "      <th>fox</th>\n",
       "      <th>guardian</th>\n",
       "      <th>WaPo</th>\n",
       "    </tr>\n",
       "  </thead>\n",
       "  <tbody>\n",
       "    <tr>\n",
       "      <th>bloomberg</th>\n",
       "      <td>1.000000</td>\n",
       "      <td>0.242236</td>\n",
       "      <td>0.183432</td>\n",
       "      <td>0.183432</td>\n",
       "      <td>0.242236</td>\n",
       "      <td>0.183432</td>\n",
       "    </tr>\n",
       "    <tr>\n",
       "      <th>breitbart</th>\n",
       "      <td>0.242236</td>\n",
       "      <td>1.000000</td>\n",
       "      <td>0.298701</td>\n",
       "      <td>0.324503</td>\n",
       "      <td>0.351351</td>\n",
       "      <td>0.282051</td>\n",
       "    </tr>\n",
       "    <tr>\n",
       "      <th>cnn</th>\n",
       "      <td>0.183432</td>\n",
       "      <td>0.298701</td>\n",
       "      <td>1.000000</td>\n",
       "      <td>0.307190</td>\n",
       "      <td>0.315789</td>\n",
       "      <td>0.307190</td>\n",
       "    </tr>\n",
       "    <tr>\n",
       "      <th>fox</th>\n",
       "      <td>0.183432</td>\n",
       "      <td>0.324503</td>\n",
       "      <td>0.307190</td>\n",
       "      <td>1.000000</td>\n",
       "      <td>0.315789</td>\n",
       "      <td>0.315789</td>\n",
       "    </tr>\n",
       "    <tr>\n",
       "      <th>guardian</th>\n",
       "      <td>0.242236</td>\n",
       "      <td>0.351351</td>\n",
       "      <td>0.315789</td>\n",
       "      <td>0.315789</td>\n",
       "      <td>1.000000</td>\n",
       "      <td>0.273885</td>\n",
       "    </tr>\n",
       "    <tr>\n",
       "      <th>WaPo</th>\n",
       "      <td>0.183432</td>\n",
       "      <td>0.282051</td>\n",
       "      <td>0.307190</td>\n",
       "      <td>0.315789</td>\n",
       "      <td>0.273885</td>\n",
       "      <td>1.000000</td>\n",
       "    </tr>\n",
       "  </tbody>\n",
       "</table>\n",
       "</div>"
      ],
      "text/plain": [
       "           bloomberg  breitbart       cnn       fox  guardian      WaPo\n",
       "bloomberg   1.000000   0.242236  0.183432  0.183432  0.242236  0.183432\n",
       "breitbart   0.242236   1.000000  0.298701  0.324503  0.351351  0.282051\n",
       "cnn         0.183432   0.298701  1.000000  0.307190  0.315789  0.307190\n",
       "fox         0.183432   0.324503  0.307190  1.000000  0.315789  0.315789\n",
       "guardian    0.242236   0.351351  0.315789  0.315789  1.000000  0.273885\n",
       "WaPo        0.183432   0.282051  0.307190  0.315789  0.273885  1.000000"
      ]
     },
     "execution_count": 333,
     "metadata": {},
     "output_type": "execute_result"
    }
   ],
   "source": [
    "js[2]"
   ]
  },
  {
   "cell_type": "code",
   "execution_count": null,
   "metadata": {
    "collapsed": true
   },
   "outputs": [],
   "source": []
  },
  {
   "cell_type": "code",
   "execution_count": 1134,
   "metadata": {
    "collapsed": true
   },
   "outputs": [],
   "source": [
    "%matplotlib inline\n",
    "import numpy as np\n",
    "import matplotlib\n",
    "import matplotlib.mlab as mlab\n",
    "import matplotlib.pyplot as plt"
   ]
  },
  {
   "cell_type": "code",
   "execution_count": 368,
   "metadata": {
    "collapsed": false
   },
   "outputs": [],
   "source": [
    "def getTermFreqbyTime(months,articles,ngram_range = (1,1),max_terms = 10):\n",
    "    dfs = []\n",
    "    for m in months:\n",
    "        d = getArticleSubset(m,articles)\n",
    "        tfidf_vec = TfidfVectorizer(stop_words = stop_stemmed,tokenizer=tokenize_stem,ngram_range=(1,1),max_features=max_terms)\n",
    "        tfidf = tfidf_vec.fit_transform(d)\n",
    "        features = tfidf_vec.get_feature_names()\n",
    "        dfs.append(pd.DataFrame(np.transpose(tfidf.toarray()), index = features, columns = names))\n",
    "    return dfs"
   ]
  },
  {
   "cell_type": "code",
   "execution_count": 369,
   "metadata": {
    "collapsed": false
   },
   "outputs": [],
   "source": [
    "most = getTermFreqbyTime(months,articles,max_terms = 20)"
   ]
  },
  {
   "cell_type": "code",
   "execution_count": 370,
   "metadata": {
    "collapsed": false,
    "scrolled": true
   },
   "outputs": [],
   "source": [
    "def plot_mf_hist(df):\n",
    "    plt.rcParams['figure.figsize'] = (10, 15)\n",
    "    ind = np.arange(len(df))\n",
    "    width = 0.15\n",
    "    colors = [\"red\", \"blue\", \"green\", \"yellow\",\"black\", \"purple\"]\n",
    "    fig, ax = plt.subplots()\n",
    "    for i in range(len(df.columns)-1):\n",
    "        col_name = df.columns[i]\n",
    "        ax.barh(ind + width*(i-1), df[col_name], width, color=colors[i], label=col_name)\n",
    "\n",
    "    ax.set(yticks=ind + width, yticklabels=df.index, ylim=[2*width - 1, len(df)])\n",
    "    ax.legend()\n",
    "    plt.show()"
   ]
  },
  {
   "cell_type": "code",
   "execution_count": 371,
   "metadata": {
    "collapsed": false,
    "scrolled": true
   },
   "outputs": [
    {
     "data": {
      "image/png": "[encoded data removed]",
      "text/plain": [
       "<matplotlib.figure.Figure at 0x11c0b5fd0>"
      ]
     },
     "metadata": {},
     "output_type": "display_data"
    }
   ],
   "source": [
    "plot_mf_hist(most[0])"
   ]
  },
  {
   "cell_type": "code",
   "execution_count": 372,
   "metadata": {
    "collapsed": false,
    "scrolled": true
   },
   "outputs": [
    {
     "data": {
      "image/png": "[encoded data removed]",
      "text/plain": [
       "<matplotlib.figure.Figure at 0x11a9a5ba8>"
      ]
     },
     "metadata": {},
     "output_type": "display_data"
    }
   ],
   "source": [
    "plot_mf_hist(most[1])"
   ]
  },
  {
   "cell_type": "code",
   "execution_count": 373,
   "metadata": {
    "collapsed": false
   },
   "outputs": [
    {
     "data": {
      "image/png": "[encoded data removed]",
      "text/plain": [
       "<matplotlib.figure.Figure at 0x11bfad438>"
      ]
     },
     "metadata": {},
     "output_type": "display_data"
    }
   ],
   "source": [
    "plot_mf_hist(most[2])"
   ]
  },
  {
   "cell_type": "markdown",
   "metadata": {},
   "source": [
    "## Original"
   ]
  },
  {
   "cell_type": "code",
   "execution_count": 79,
   "metadata": {
    "collapsed": true
   },
   "outputs": [],
   "source": [
    "def read_text (file):\n",
    "    with open(file,'r') as f:\n",
    "        text = f.read()\n",
    "    f.close()\n",
    "    return text"
   ]
  },
  {
   "cell_type": "code",
   "execution_count": 80,
   "metadata": {
    "collapsed": true
   },
   "outputs": [],
   "source": [
    "bb = read_text('data/breitbart_pol_feb_20_26.txt')\n",
    "nyt = read_text('data/nyt_pol_feb_20_26.txt')\n",
    "hp = read_text('data/huffpost_pol_feb_20_26.txt')\n",
    "fox = read_text('data/fox_pol_feb_20_26.txt')\n"
   ]
  },
  {
   "cell_type": "code",
   "execution_count": 81,
   "metadata": {
    "collapsed": true
   },
   "outputs": [],
   "source": [
    "d = [bb,nyt,fox,hp]\n",
    "names = [\"breitbart\",\"nyt\",\"fox\",\"hp\"]"
   ]
  },
  {
   "cell_type": "code",
   "execution_count": 82,
   "metadata": {
    "collapsed": false
   },
   "outputs": [],
   "source": [
    "stopWords = stopwords.words('english')\n",
    "tokenize = lambda doc: list(filter(None,re.split(r\"\\W|\\d\",doc.lower())))\n"
   ]
  },
  {
   "cell_type": "code",
   "execution_count": 98,
   "metadata": {
    "collapsed": false
   },
   "outputs": [],
   "source": [
    "tfidf_vec = TfidfVectorizer(stop_words = stopWords,tokenizer=tokenize)\n",
    "tfidf = tfidf_vec.fit_transform(d)\n",
    "#print(td_mat.shape)\n",
    "#count_vect.get_feature_names()"
   ]
  },
  {
   "cell_type": "code",
   "execution_count": 99,
   "metadata": {
    "collapsed": false
   },
   "outputs": [],
   "source": [
    "#tf and tf-idf\n",
    "# tf_transformer = TfidfTransformer(use_idf=False)\n",
    "# tf = tf_transformer.fit_transform(td_mat)\n",
    "# tfidf_transformer = TfidfTransformer()\n",
    "# tfidf = tfidf_transformer.fit_transform(td_mat)"
   ]
  },
  {
   "cell_type": "code",
   "execution_count": 100,
   "metadata": {
    "collapsed": true
   },
   "outputs": [],
   "source": [
    "from sklearn.metrics.pairwise import linear_kernel"
   ]
  },
  {
   "cell_type": "code",
   "execution_count": 12,
   "metadata": {
    "collapsed": true
   },
   "outputs": [],
   "source": [
    "count_vect = CountVectorizer(max_features = 50,stop_words = stopWords,tokenizer=tokenize)\n",
    "td_mat = count_vect.fit_transform(d)\n",
    "#count_vect.get_feature_names()\n",
    "tfidf_transformer = TfidfTransformer()\n",
    "tfidf = tfidf_transformer.fit_transform(td_mat)"
   ]
  },
  {
   "cell_type": "code",
   "execution_count": 729,
   "metadata": {
    "collapsed": false
   },
   "outputs": [],
   "source": [
    "d_most_common_words = [list(zip(*d))[0] for d in d_common_50]"
   ]
  },
  {
   "cell_type": "code",
   "execution_count": null,
   "metadata": {
    "collapsed": true
   },
   "outputs": [],
   "source": []
  },
  {
   "cell_type": "code",
   "execution_count": null,
   "metadata": {
    "collapsed": true
   },
   "outputs": [],
   "source": []
  }
 ],
 "metadata": {
  "anaconda-cloud": {},
  "kernelspec": {
   "display_name": "Python 3",
   "language": "python",
   "name": "python3"
  },
  "language_info": {
   "codemirror_mode": {
    "name": "ipython",
    "version": 3
   },
   "file_extension": ".py",
   "mimetype": "text/x-python",
   "name": "python",
   "nbconvert_exporter": "python",
   "pygments_lexer": "ipython3",
   "version": "3.6.0"
  }
 },
 "nbformat": 4,
 "nbformat_minor": 2
}
