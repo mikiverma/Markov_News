{
 "cells": [
  {
   "cell_type": "code",
   "execution_count": 232,
   "metadata": {
    "collapsed": true
   },
   "outputs": [],
   "source": [
    "from sklearn.feature_extraction.text import CountVectorizer\n",
    "from sklearn.feature_extraction.text import TfidfTransformer\n",
    "from nltk.tokenize import word_tokenize\n",
    "from nltk.corpus import stopwords\n",
    "import numpy as np\n",
    "import numpy.linalg as LA\n",
    "import re\n",
    "import nltk"
   ]
  },
  {
   "cell_type": "code",
   "execution_count": 233,
   "metadata": {
    "collapsed": true
   },
   "outputs": [],
   "source": [
    "def read_text (file):\n",
    "    with open(file,'r') as f:\n",
    "        text = f.read()\n",
    "    f.close()\n",
    "    return text"
   ]
  },
  {
   "cell_type": "code",
   "execution_count": 234,
   "metadata": {
    "collapsed": true
   },
   "outputs": [],
   "source": [
    "bb = read_text('data/breitbart_pol_feb_20_26.txt')\n",
    "nyt = read_text('data/nyt_pol_feb_20_26.txt')\n",
    "hp = read_text('data/huffpost_pol_feb_20_26.txt')\n",
    "fox = read_text('data/fox_pol_feb_20_26.txt')\n"
   ]
  },
  {
   "cell_type": "code",
   "execution_count": 235,
   "metadata": {
    "collapsed": true
   },
   "outputs": [],
   "source": [
    "d = [bb,nyt,fox,hp]\n",
    "names = [\"breitbart\",\"nyt\",\"fox\",\"hp\"]"
   ]
  },
  {
   "cell_type": "code",
   "execution_count": 236,
   "metadata": {
    "collapsed": false
   },
   "outputs": [],
   "source": [
    "stopWords = stopwords.words('english')\n",
    "#stopWords = None\n",
    "#stopWords.append('mr')\n",
    "count_vect = CountVectorizer(stop_words = stopWords)"
   ]
  },
  {
   "cell_type": "code",
   "execution_count": 237,
   "metadata": {
    "collapsed": false
   },
   "outputs": [
    {
     "name": "stdout",
     "output_type": "stream",
     "text": [
      "(4, 13435)\n"
     ]
    }
   ],
   "source": [
    "td_mat = count_vect.fit_transform(d)\n",
    "print(td_mat.shape)\n",
    "#count_vect.get_feature_names()"
   ]
  },
  {
   "cell_type": "code",
   "execution_count": 238,
   "metadata": {
    "collapsed": false
   },
   "outputs": [],
   "source": [
    "#tf and tf-idf\n",
    "tf_transformer = TfidfTransformer(use_idf=False)\n",
    "tf = tf_transformer.fit_transform(td_mat)\n",
    "tfidf_transformer = TfidfTransformer()\n",
    "tfidf = tfidf_transformer.fit_transform(td_mat)"
   ]
  },
  {
   "cell_type": "code",
   "execution_count": 239,
   "metadata": {
    "collapsed": true
   },
   "outputs": [],
   "source": [
    "from sklearn.metrics.pairwise import linear_kernel"
   ]
  },
  {
   "cell_type": "code",
   "execution_count": 272,
   "metadata": {
    "collapsed": true
   },
   "outputs": [],
   "source": [
    "def cosine_similarities_mat(m):\n",
    "    n = m.shape[0]\n",
    "    cs_array = np.zeros((n,n))\n",
    "    for i in range(n):\n",
    "        cs_array[i]=(linear_kernel(m[i:i+1], m).flatten())\n",
    "    return cs_array"
   ]
  },
  {
   "cell_type": "code",
   "execution_count": 249,
   "metadata": {
    "collapsed": false,
    "scrolled": true
   },
   "outputs": [
    {
     "data": {
      "text/plain": [
       "array([[ 1.        ,  0.59911043,  0.80491985,  0.8083596 ],\n",
       "       [ 0.59911043,  1.        ,  0.63885702,  0.6384394 ],\n",
       "       [ 0.80491985,  0.63885702,  1.        ,  0.84011819],\n",
       "       [ 0.8083596 ,  0.6384394 ,  0.84011819,  1.        ]])"
      ]
     },
     "execution_count": 249,
     "metadata": {},
     "output_type": "execute_result"
    }
   ],
   "source": [
    "cosine_similarities_mat(tfidf)"
   ]
  },
  {
   "cell_type": "code",
   "execution_count": 250,
   "metadata": {
    "collapsed": false
   },
   "outputs": [
    {
     "data": {
      "text/plain": [
       "array([[ 1.        ,  0.63301482,  0.84900263,  0.85859221],\n",
       "       [ 0.63301482,  1.        ,  0.66559499,  0.67047691],\n",
       "       [ 0.84900263,  0.66559499,  1.        ,  0.8800127 ],\n",
       "       [ 0.85859221,  0.67047691,  0.8800127 ,  1.        ]])"
      ]
     },
     "execution_count": 250,
     "metadata": {},
     "output_type": "execute_result"
    }
   ],
   "source": [
    "cosine_similarities_mat(tf)"
   ]
  },
  {
   "cell_type": "code",
   "execution_count": 244,
   "metadata": {
    "collapsed": false,
    "scrolled": true
   },
   "outputs": [
    {
     "data": {
      "text/plain": [
       "['breitbart', 'nyt', 'fox', 'hp']"
      ]
     },
     "execution_count": 244,
     "metadata": {},
     "output_type": "execute_result"
    }
   ],
   "source": [
    "names"
   ]
  },
  {
   "cell_type": "code",
   "execution_count": 277,
   "metadata": {
    "collapsed": true
   },
   "outputs": [],
   "source": [
    "def pearson_corr_mat(m):\n",
    "    n = m.shape[0]\n",
    "    pc_array_all = np.corrcoef(m.toarray(), m.toarray())\n",
    "    pc_array = np.zeros((n,n))\n",
    "    for i in range(n):\n",
    "        pc_array[i]=pc_array_all[i][0:4]\n",
    "    return pc_array"
   ]
  },
  {
   "cell_type": "code",
   "execution_count": 278,
   "metadata": {
    "collapsed": false,
    "scrolled": true
   },
   "outputs": [
    {
     "data": {
      "text/plain": [
       "array([[ 1.        ,  0.57399263,  0.7874664 ,  0.78691517],\n",
       "       [ 0.57399263,  1.        ,  0.61783908,  0.6160966 ],\n",
       "       [ 0.7874664 ,  0.61783908,  1.        ,  0.82579846],\n",
       "       [ 0.78691517,  0.6160966 ,  0.82579846,  1.        ]])"
      ]
     },
     "execution_count": 278,
     "metadata": {},
     "output_type": "execute_result"
    }
   ],
   "source": [
    "pearson_corr_mat(tfidf)"
   ]
  },
  {
   "cell_type": "code",
   "execution_count": 279,
   "metadata": {
    "collapsed": false
   },
   "outputs": [
    {
     "data": {
      "text/plain": [
       "array([[ 1.        ,  0.61496868,  0.83866086,  0.8466207 ],\n",
       "       [ 0.61496868,  1.        ,  0.65020099,  0.65464212],\n",
       "       [ 0.83866086,  0.65020099,  1.        ,  0.87194807],\n",
       "       [ 0.8466207 ,  0.65464212,  0.87194807,  1.        ]])"
      ]
     },
     "execution_count": 279,
     "metadata": {},
     "output_type": "execute_result"
    }
   ],
   "source": [
    "pearson_corr_mat(tf)"
   ]
  },
  {
   "cell_type": "code",
   "execution_count": null,
   "metadata": {
    "collapsed": true
   },
   "outputs": [],
   "source": []
  },
  {
   "cell_type": "code",
   "execution_count": 217,
   "metadata": {
    "collapsed": true
   },
   "outputs": [],
   "source": [
    "stopwords = nltk.corpus.stopwords.words('english')\n",
    "def tok(text):\n",
    "    word_split_pattern = re.compile(r\"\\W|\\d\")\n",
    "    words = re.split(word_split_pattern, text)\n",
    "    words = list(filter(None,words))\n",
    "    words=[w.lower() for w in words]\n",
    "    words=[w for w in words if w not in stopwords]\n",
    "    return words"
   ]
  },
  {
   "cell_type": "code",
   "execution_count": 218,
   "metadata": {
    "collapsed": false,
    "scrolled": true
   },
   "outputs": [],
   "source": [
    "tokenized_documents = [tok(x) for x in d]"
   ]
  },
  {
   "cell_type": "code",
   "execution_count": 220,
   "metadata": {
    "collapsed": true
   },
   "outputs": [],
   "source": [
    "def jaccard_similarity(d1, d2):\n",
    "    intersection = set(d1).intersection(set(d2))\n",
    "    union = set(d1).union(set(d2))\n",
    "    return len(intersection)/len(union)"
   ]
  }
 ],
 "metadata": {
  "kernelspec": {
   "display_name": "Python 3",
   "language": "python",
   "name": "python3"
  },
  "language_info": {
   "codemirror_mode": {
    "name": "ipython",
    "version": 3
   },
   "file_extension": ".py",
   "mimetype": "text/x-python",
   "name": "python",
   "nbconvert_exporter": "python",
   "pygments_lexer": "ipython3",
   "version": "3.6.0"
  }
 },
 "nbformat": 4,
 "nbformat_minor": 2
}
